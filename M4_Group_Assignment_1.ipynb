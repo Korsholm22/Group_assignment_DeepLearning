{
  "nbformat": 4,
  "nbformat_minor": 0,
  "metadata": {
    "colab": {
      "provenance": [],
      "toc_visible": true,
      "authorship_tag": "ABX9TyOwljVIbp8K6rQfZCs1b0Pw",
      "include_colab_link": true
    },
    "kernelspec": {
      "name": "python3",
      "display_name": "Python 3"
    },
    "language_info": {
      "name": "python"
    },
    "widgets": {
      "application/vnd.jupyter.widget-state+json": {
        "b3702f4357bd4e77bf23aa9fa00878ee": {
          "model_module": "@jupyter-widgets/controls",
          "model_name": "HBoxModel",
          "model_module_version": "1.5.0",
          "state": {
            "_dom_classes": [],
            "_model_module": "@jupyter-widgets/controls",
            "_model_module_version": "1.5.0",
            "_model_name": "HBoxModel",
            "_view_count": null,
            "_view_module": "@jupyter-widgets/controls",
            "_view_module_version": "1.5.0",
            "_view_name": "HBoxView",
            "box_style": "",
            "children": [
              "IPY_MODEL_9ad84ed9ab304babb0c507c025079194",
              "IPY_MODEL_8b2e3bc2caf64a9a8b4ba274bbc657ec",
              "IPY_MODEL_3dbac34304ef47efabe958cf9015316a"
            ],
            "layout": "IPY_MODEL_94f1f99d95c743cf841206e0abb0d7ba"
          }
        },
        "9ad84ed9ab304babb0c507c025079194": {
          "model_module": "@jupyter-widgets/controls",
          "model_name": "HTMLModel",
          "model_module_version": "1.5.0",
          "state": {
            "_dom_classes": [],
            "_model_module": "@jupyter-widgets/controls",
            "_model_module_version": "1.5.0",
            "_model_name": "HTMLModel",
            "_view_count": null,
            "_view_module": "@jupyter-widgets/controls",
            "_view_module_version": "1.5.0",
            "_view_name": "HTMLView",
            "description": "",
            "description_tooltip": null,
            "layout": "IPY_MODEL_b45f2612fb7c41eab87b3e0c06080596",
            "placeholder": "​",
            "style": "IPY_MODEL_e6db1bb223034e62a1198c7f00c9004c",
            "value": "100%"
          }
        },
        "8b2e3bc2caf64a9a8b4ba274bbc657ec": {
          "model_module": "@jupyter-widgets/controls",
          "model_name": "FloatProgressModel",
          "model_module_version": "1.5.0",
          "state": {
            "_dom_classes": [],
            "_model_module": "@jupyter-widgets/controls",
            "_model_module_version": "1.5.0",
            "_model_name": "FloatProgressModel",
            "_view_count": null,
            "_view_module": "@jupyter-widgets/controls",
            "_view_module_version": "1.5.0",
            "_view_name": "ProgressView",
            "bar_style": "success",
            "description": "",
            "description_tooltip": null,
            "layout": "IPY_MODEL_2adb6a44c5154cacb6d8fb286093c1c1",
            "max": 50,
            "min": 0,
            "orientation": "horizontal",
            "style": "IPY_MODEL_0fb18be7d3b74e86994106f8c7dbbca4",
            "value": 50
          }
        },
        "3dbac34304ef47efabe958cf9015316a": {
          "model_module": "@jupyter-widgets/controls",
          "model_name": "HTMLModel",
          "model_module_version": "1.5.0",
          "state": {
            "_dom_classes": [],
            "_model_module": "@jupyter-widgets/controls",
            "_model_module_version": "1.5.0",
            "_model_name": "HTMLModel",
            "_view_count": null,
            "_view_module": "@jupyter-widgets/controls",
            "_view_module_version": "1.5.0",
            "_view_name": "HTMLView",
            "description": "",
            "description_tooltip": null,
            "layout": "IPY_MODEL_8befbd70ad654a90876ab01c5dbe3de1",
            "placeholder": "​",
            "style": "IPY_MODEL_8759ec0dff1d4e85ba5192c87e15d142",
            "value": " 50/50 [02:18&lt;00:00,  2.51s/epoch]"
          }
        },
        "94f1f99d95c743cf841206e0abb0d7ba": {
          "model_module": "@jupyter-widgets/base",
          "model_name": "LayoutModel",
          "model_module_version": "1.2.0",
          "state": {
            "_model_module": "@jupyter-widgets/base",
            "_model_module_version": "1.2.0",
            "_model_name": "LayoutModel",
            "_view_count": null,
            "_view_module": "@jupyter-widgets/base",
            "_view_module_version": "1.2.0",
            "_view_name": "LayoutView",
            "align_content": null,
            "align_items": null,
            "align_self": null,
            "border": null,
            "bottom": null,
            "display": null,
            "flex": null,
            "flex_flow": null,
            "grid_area": null,
            "grid_auto_columns": null,
            "grid_auto_flow": null,
            "grid_auto_rows": null,
            "grid_column": null,
            "grid_gap": null,
            "grid_row": null,
            "grid_template_areas": null,
            "grid_template_columns": null,
            "grid_template_rows": null,
            "height": null,
            "justify_content": null,
            "justify_items": null,
            "left": null,
            "margin": null,
            "max_height": null,
            "max_width": null,
            "min_height": null,
            "min_width": null,
            "object_fit": null,
            "object_position": null,
            "order": null,
            "overflow": null,
            "overflow_x": null,
            "overflow_y": null,
            "padding": null,
            "right": null,
            "top": null,
            "visibility": null,
            "width": null
          }
        },
        "b45f2612fb7c41eab87b3e0c06080596": {
          "model_module": "@jupyter-widgets/base",
          "model_name": "LayoutModel",
          "model_module_version": "1.2.0",
          "state": {
            "_model_module": "@jupyter-widgets/base",
            "_model_module_version": "1.2.0",
            "_model_name": "LayoutModel",
            "_view_count": null,
            "_view_module": "@jupyter-widgets/base",
            "_view_module_version": "1.2.0",
            "_view_name": "LayoutView",
            "align_content": null,
            "align_items": null,
            "align_self": null,
            "border": null,
            "bottom": null,
            "display": null,
            "flex": null,
            "flex_flow": null,
            "grid_area": null,
            "grid_auto_columns": null,
            "grid_auto_flow": null,
            "grid_auto_rows": null,
            "grid_column": null,
            "grid_gap": null,
            "grid_row": null,
            "grid_template_areas": null,
            "grid_template_columns": null,
            "grid_template_rows": null,
            "height": null,
            "justify_content": null,
            "justify_items": null,
            "left": null,
            "margin": null,
            "max_height": null,
            "max_width": null,
            "min_height": null,
            "min_width": null,
            "object_fit": null,
            "object_position": null,
            "order": null,
            "overflow": null,
            "overflow_x": null,
            "overflow_y": null,
            "padding": null,
            "right": null,
            "top": null,
            "visibility": null,
            "width": null
          }
        },
        "e6db1bb223034e62a1198c7f00c9004c": {
          "model_module": "@jupyter-widgets/controls",
          "model_name": "DescriptionStyleModel",
          "model_module_version": "1.5.0",
          "state": {
            "_model_module": "@jupyter-widgets/controls",
            "_model_module_version": "1.5.0",
            "_model_name": "DescriptionStyleModel",
            "_view_count": null,
            "_view_module": "@jupyter-widgets/base",
            "_view_module_version": "1.2.0",
            "_view_name": "StyleView",
            "description_width": ""
          }
        },
        "2adb6a44c5154cacb6d8fb286093c1c1": {
          "model_module": "@jupyter-widgets/base",
          "model_name": "LayoutModel",
          "model_module_version": "1.2.0",
          "state": {
            "_model_module": "@jupyter-widgets/base",
            "_model_module_version": "1.2.0",
            "_model_name": "LayoutModel",
            "_view_count": null,
            "_view_module": "@jupyter-widgets/base",
            "_view_module_version": "1.2.0",
            "_view_name": "LayoutView",
            "align_content": null,
            "align_items": null,
            "align_self": null,
            "border": null,
            "bottom": null,
            "display": null,
            "flex": null,
            "flex_flow": null,
            "grid_area": null,
            "grid_auto_columns": null,
            "grid_auto_flow": null,
            "grid_auto_rows": null,
            "grid_column": null,
            "grid_gap": null,
            "grid_row": null,
            "grid_template_areas": null,
            "grid_template_columns": null,
            "grid_template_rows": null,
            "height": null,
            "justify_content": null,
            "justify_items": null,
            "left": null,
            "margin": null,
            "max_height": null,
            "max_width": null,
            "min_height": null,
            "min_width": null,
            "object_fit": null,
            "object_position": null,
            "order": null,
            "overflow": null,
            "overflow_x": null,
            "overflow_y": null,
            "padding": null,
            "right": null,
            "top": null,
            "visibility": null,
            "width": null
          }
        },
        "0fb18be7d3b74e86994106f8c7dbbca4": {
          "model_module": "@jupyter-widgets/controls",
          "model_name": "ProgressStyleModel",
          "model_module_version": "1.5.0",
          "state": {
            "_model_module": "@jupyter-widgets/controls",
            "_model_module_version": "1.5.0",
            "_model_name": "ProgressStyleModel",
            "_view_count": null,
            "_view_module": "@jupyter-widgets/base",
            "_view_module_version": "1.2.0",
            "_view_name": "StyleView",
            "bar_color": null,
            "description_width": ""
          }
        },
        "8befbd70ad654a90876ab01c5dbe3de1": {
          "model_module": "@jupyter-widgets/base",
          "model_name": "LayoutModel",
          "model_module_version": "1.2.0",
          "state": {
            "_model_module": "@jupyter-widgets/base",
            "_model_module_version": "1.2.0",
            "_model_name": "LayoutModel",
            "_view_count": null,
            "_view_module": "@jupyter-widgets/base",
            "_view_module_version": "1.2.0",
            "_view_name": "LayoutView",
            "align_content": null,
            "align_items": null,
            "align_self": null,
            "border": null,
            "bottom": null,
            "display": null,
            "flex": null,
            "flex_flow": null,
            "grid_area": null,
            "grid_auto_columns": null,
            "grid_auto_flow": null,
            "grid_auto_rows": null,
            "grid_column": null,
            "grid_gap": null,
            "grid_row": null,
            "grid_template_areas": null,
            "grid_template_columns": null,
            "grid_template_rows": null,
            "height": null,
            "justify_content": null,
            "justify_items": null,
            "left": null,
            "margin": null,
            "max_height": null,
            "max_width": null,
            "min_height": null,
            "min_width": null,
            "object_fit": null,
            "object_position": null,
            "order": null,
            "overflow": null,
            "overflow_x": null,
            "overflow_y": null,
            "padding": null,
            "right": null,
            "top": null,
            "visibility": null,
            "width": null
          }
        },
        "8759ec0dff1d4e85ba5192c87e15d142": {
          "model_module": "@jupyter-widgets/controls",
          "model_name": "DescriptionStyleModel",
          "model_module_version": "1.5.0",
          "state": {
            "_model_module": "@jupyter-widgets/controls",
            "_model_module_version": "1.5.0",
            "_model_name": "DescriptionStyleModel",
            "_view_count": null,
            "_view_module": "@jupyter-widgets/base",
            "_view_module_version": "1.2.0",
            "_view_name": "StyleView",
            "description_width": ""
          }
        },
        "d1eac6dae9c245c9a5abd6748d8557d4": {
          "model_module": "@jupyter-widgets/controls",
          "model_name": "HBoxModel",
          "model_module_version": "1.5.0",
          "state": {
            "_dom_classes": [],
            "_model_module": "@jupyter-widgets/controls",
            "_model_module_version": "1.5.0",
            "_model_name": "HBoxModel",
            "_view_count": null,
            "_view_module": "@jupyter-widgets/controls",
            "_view_module_version": "1.5.0",
            "_view_name": "HBoxView",
            "box_style": "",
            "children": [
              "IPY_MODEL_3a55b7f79d8d476892a4adb40497ffc2",
              "IPY_MODEL_c3ff569d00e140f4a64a1c77b438e6c6",
              "IPY_MODEL_8015b34509f745a390583042f71a2a78"
            ],
            "layout": "IPY_MODEL_bd9c4a1961a145328cb72389693edaab"
          }
        },
        "3a55b7f79d8d476892a4adb40497ffc2": {
          "model_module": "@jupyter-widgets/controls",
          "model_name": "HTMLModel",
          "model_module_version": "1.5.0",
          "state": {
            "_dom_classes": [],
            "_model_module": "@jupyter-widgets/controls",
            "_model_module_version": "1.5.0",
            "_model_name": "HTMLModel",
            "_view_count": null,
            "_view_module": "@jupyter-widgets/controls",
            "_view_module_version": "1.5.0",
            "_view_name": "HTMLView",
            "description": "",
            "description_tooltip": null,
            "layout": "IPY_MODEL_d4c5eb3a42cc426c861af0c7ef6c3827",
            "placeholder": "​",
            "style": "IPY_MODEL_aa2d2885bb6f42a18198b8c6d6719cb4",
            "value": "100%"
          }
        },
        "c3ff569d00e140f4a64a1c77b438e6c6": {
          "model_module": "@jupyter-widgets/controls",
          "model_name": "FloatProgressModel",
          "model_module_version": "1.5.0",
          "state": {
            "_dom_classes": [],
            "_model_module": "@jupyter-widgets/controls",
            "_model_module_version": "1.5.0",
            "_model_name": "FloatProgressModel",
            "_view_count": null,
            "_view_module": "@jupyter-widgets/controls",
            "_view_module_version": "1.5.0",
            "_view_name": "ProgressView",
            "bar_style": "success",
            "description": "",
            "description_tooltip": null,
            "layout": "IPY_MODEL_bb158a3a01ac446eb3a66922ef8d049e",
            "max": 50,
            "min": 0,
            "orientation": "horizontal",
            "style": "IPY_MODEL_85e89d839bce4ec69a45078c2c24f736",
            "value": 50
          }
        },
        "8015b34509f745a390583042f71a2a78": {
          "model_module": "@jupyter-widgets/controls",
          "model_name": "HTMLModel",
          "model_module_version": "1.5.0",
          "state": {
            "_dom_classes": [],
            "_model_module": "@jupyter-widgets/controls",
            "_model_module_version": "1.5.0",
            "_model_name": "HTMLModel",
            "_view_count": null,
            "_view_module": "@jupyter-widgets/controls",
            "_view_module_version": "1.5.0",
            "_view_name": "HTMLView",
            "description": "",
            "description_tooltip": null,
            "layout": "IPY_MODEL_2e0afad2494f40bda6cbaea422aa83bc",
            "placeholder": "​",
            "style": "IPY_MODEL_d3fd88008cd84f538210901e3bc7da59",
            "value": " 50/50 [01:58&lt;00:00,  2.28s/epoch]"
          }
        },
        "bd9c4a1961a145328cb72389693edaab": {
          "model_module": "@jupyter-widgets/base",
          "model_name": "LayoutModel",
          "model_module_version": "1.2.0",
          "state": {
            "_model_module": "@jupyter-widgets/base",
            "_model_module_version": "1.2.0",
            "_model_name": "LayoutModel",
            "_view_count": null,
            "_view_module": "@jupyter-widgets/base",
            "_view_module_version": "1.2.0",
            "_view_name": "LayoutView",
            "align_content": null,
            "align_items": null,
            "align_self": null,
            "border": null,
            "bottom": null,
            "display": null,
            "flex": null,
            "flex_flow": null,
            "grid_area": null,
            "grid_auto_columns": null,
            "grid_auto_flow": null,
            "grid_auto_rows": null,
            "grid_column": null,
            "grid_gap": null,
            "grid_row": null,
            "grid_template_areas": null,
            "grid_template_columns": null,
            "grid_template_rows": null,
            "height": null,
            "justify_content": null,
            "justify_items": null,
            "left": null,
            "margin": null,
            "max_height": null,
            "max_width": null,
            "min_height": null,
            "min_width": null,
            "object_fit": null,
            "object_position": null,
            "order": null,
            "overflow": null,
            "overflow_x": null,
            "overflow_y": null,
            "padding": null,
            "right": null,
            "top": null,
            "visibility": null,
            "width": null
          }
        },
        "d4c5eb3a42cc426c861af0c7ef6c3827": {
          "model_module": "@jupyter-widgets/base",
          "model_name": "LayoutModel",
          "model_module_version": "1.2.0",
          "state": {
            "_model_module": "@jupyter-widgets/base",
            "_model_module_version": "1.2.0",
            "_model_name": "LayoutModel",
            "_view_count": null,
            "_view_module": "@jupyter-widgets/base",
            "_view_module_version": "1.2.0",
            "_view_name": "LayoutView",
            "align_content": null,
            "align_items": null,
            "align_self": null,
            "border": null,
            "bottom": null,
            "display": null,
            "flex": null,
            "flex_flow": null,
            "grid_area": null,
            "grid_auto_columns": null,
            "grid_auto_flow": null,
            "grid_auto_rows": null,
            "grid_column": null,
            "grid_gap": null,
            "grid_row": null,
            "grid_template_areas": null,
            "grid_template_columns": null,
            "grid_template_rows": null,
            "height": null,
            "justify_content": null,
            "justify_items": null,
            "left": null,
            "margin": null,
            "max_height": null,
            "max_width": null,
            "min_height": null,
            "min_width": null,
            "object_fit": null,
            "object_position": null,
            "order": null,
            "overflow": null,
            "overflow_x": null,
            "overflow_y": null,
            "padding": null,
            "right": null,
            "top": null,
            "visibility": null,
            "width": null
          }
        },
        "aa2d2885bb6f42a18198b8c6d6719cb4": {
          "model_module": "@jupyter-widgets/controls",
          "model_name": "DescriptionStyleModel",
          "model_module_version": "1.5.0",
          "state": {
            "_model_module": "@jupyter-widgets/controls",
            "_model_module_version": "1.5.0",
            "_model_name": "DescriptionStyleModel",
            "_view_count": null,
            "_view_module": "@jupyter-widgets/base",
            "_view_module_version": "1.2.0",
            "_view_name": "StyleView",
            "description_width": ""
          }
        },
        "bb158a3a01ac446eb3a66922ef8d049e": {
          "model_module": "@jupyter-widgets/base",
          "model_name": "LayoutModel",
          "model_module_version": "1.2.0",
          "state": {
            "_model_module": "@jupyter-widgets/base",
            "_model_module_version": "1.2.0",
            "_model_name": "LayoutModel",
            "_view_count": null,
            "_view_module": "@jupyter-widgets/base",
            "_view_module_version": "1.2.0",
            "_view_name": "LayoutView",
            "align_content": null,
            "align_items": null,
            "align_self": null,
            "border": null,
            "bottom": null,
            "display": null,
            "flex": null,
            "flex_flow": null,
            "grid_area": null,
            "grid_auto_columns": null,
            "grid_auto_flow": null,
            "grid_auto_rows": null,
            "grid_column": null,
            "grid_gap": null,
            "grid_row": null,
            "grid_template_areas": null,
            "grid_template_columns": null,
            "grid_template_rows": null,
            "height": null,
            "justify_content": null,
            "justify_items": null,
            "left": null,
            "margin": null,
            "max_height": null,
            "max_width": null,
            "min_height": null,
            "min_width": null,
            "object_fit": null,
            "object_position": null,
            "order": null,
            "overflow": null,
            "overflow_x": null,
            "overflow_y": null,
            "padding": null,
            "right": null,
            "top": null,
            "visibility": null,
            "width": null
          }
        },
        "85e89d839bce4ec69a45078c2c24f736": {
          "model_module": "@jupyter-widgets/controls",
          "model_name": "ProgressStyleModel",
          "model_module_version": "1.5.0",
          "state": {
            "_model_module": "@jupyter-widgets/controls",
            "_model_module_version": "1.5.0",
            "_model_name": "ProgressStyleModel",
            "_view_count": null,
            "_view_module": "@jupyter-widgets/base",
            "_view_module_version": "1.2.0",
            "_view_name": "StyleView",
            "bar_color": null,
            "description_width": ""
          }
        },
        "2e0afad2494f40bda6cbaea422aa83bc": {
          "model_module": "@jupyter-widgets/base",
          "model_name": "LayoutModel",
          "model_module_version": "1.2.0",
          "state": {
            "_model_module": "@jupyter-widgets/base",
            "_model_module_version": "1.2.0",
            "_model_name": "LayoutModel",
            "_view_count": null,
            "_view_module": "@jupyter-widgets/base",
            "_view_module_version": "1.2.0",
            "_view_name": "LayoutView",
            "align_content": null,
            "align_items": null,
            "align_self": null,
            "border": null,
            "bottom": null,
            "display": null,
            "flex": null,
            "flex_flow": null,
            "grid_area": null,
            "grid_auto_columns": null,
            "grid_auto_flow": null,
            "grid_auto_rows": null,
            "grid_column": null,
            "grid_gap": null,
            "grid_row": null,
            "grid_template_areas": null,
            "grid_template_columns": null,
            "grid_template_rows": null,
            "height": null,
            "justify_content": null,
            "justify_items": null,
            "left": null,
            "margin": null,
            "max_height": null,
            "max_width": null,
            "min_height": null,
            "min_width": null,
            "object_fit": null,
            "object_position": null,
            "order": null,
            "overflow": null,
            "overflow_x": null,
            "overflow_y": null,
            "padding": null,
            "right": null,
            "top": null,
            "visibility": null,
            "width": null
          }
        },
        "d3fd88008cd84f538210901e3bc7da59": {
          "model_module": "@jupyter-widgets/controls",
          "model_name": "DescriptionStyleModel",
          "model_module_version": "1.5.0",
          "state": {
            "_model_module": "@jupyter-widgets/controls",
            "_model_module_version": "1.5.0",
            "_model_name": "DescriptionStyleModel",
            "_view_count": null,
            "_view_module": "@jupyter-widgets/base",
            "_view_module_version": "1.2.0",
            "_view_name": "StyleView",
            "description_width": ""
          }
        },
        "51992bb546014ed2bc51075f89297fef": {
          "model_module": "@jupyter-widgets/controls",
          "model_name": "HBoxModel",
          "model_module_version": "1.5.0",
          "state": {
            "_dom_classes": [],
            "_model_module": "@jupyter-widgets/controls",
            "_model_module_version": "1.5.0",
            "_model_name": "HBoxModel",
            "_view_count": null,
            "_view_module": "@jupyter-widgets/controls",
            "_view_module_version": "1.5.0",
            "_view_name": "HBoxView",
            "box_style": "",
            "children": [
              "IPY_MODEL_19dabdf100f54835b23f3bfd4674787e",
              "IPY_MODEL_f28767b8015543c293cd076f343cc5f3",
              "IPY_MODEL_439129805257474a815ba4e801b6cc25"
            ],
            "layout": "IPY_MODEL_c0f936c6579c4491bd0f15e45f0b1272"
          }
        },
        "19dabdf100f54835b23f3bfd4674787e": {
          "model_module": "@jupyter-widgets/controls",
          "model_name": "HTMLModel",
          "model_module_version": "1.5.0",
          "state": {
            "_dom_classes": [],
            "_model_module": "@jupyter-widgets/controls",
            "_model_module_version": "1.5.0",
            "_model_name": "HTMLModel",
            "_view_count": null,
            "_view_module": "@jupyter-widgets/controls",
            "_view_module_version": "1.5.0",
            "_view_name": "HTMLView",
            "description": "",
            "description_tooltip": null,
            "layout": "IPY_MODEL_5ec66597095a459ba8fd44e3eefefc20",
            "placeholder": "​",
            "style": "IPY_MODEL_fe1f23725425425aa12f57068a7e8518",
            "value": "100%"
          }
        },
        "f28767b8015543c293cd076f343cc5f3": {
          "model_module": "@jupyter-widgets/controls",
          "model_name": "FloatProgressModel",
          "model_module_version": "1.5.0",
          "state": {
            "_dom_classes": [],
            "_model_module": "@jupyter-widgets/controls",
            "_model_module_version": "1.5.0",
            "_model_name": "FloatProgressModel",
            "_view_count": null,
            "_view_module": "@jupyter-widgets/controls",
            "_view_module_version": "1.5.0",
            "_view_name": "ProgressView",
            "bar_style": "success",
            "description": "",
            "description_tooltip": null,
            "layout": "IPY_MODEL_7afae37727f14d7287ff7a51d7cf6802",
            "max": 50,
            "min": 0,
            "orientation": "horizontal",
            "style": "IPY_MODEL_df2d5eed0df74d96b4637cbfe335b5ec",
            "value": 50
          }
        },
        "439129805257474a815ba4e801b6cc25": {
          "model_module": "@jupyter-widgets/controls",
          "model_name": "HTMLModel",
          "model_module_version": "1.5.0",
          "state": {
            "_dom_classes": [],
            "_model_module": "@jupyter-widgets/controls",
            "_model_module_version": "1.5.0",
            "_model_name": "HTMLModel",
            "_view_count": null,
            "_view_module": "@jupyter-widgets/controls",
            "_view_module_version": "1.5.0",
            "_view_name": "HTMLView",
            "description": "",
            "description_tooltip": null,
            "layout": "IPY_MODEL_b10eeb8463b7453bb265ee98239e61f9",
            "placeholder": "​",
            "style": "IPY_MODEL_32c2b441dd3f43c8b8e4dcbcfb61fa0a",
            "value": " 50/50 [02:02&lt;00:00,  2.51s/epoch]"
          }
        },
        "c0f936c6579c4491bd0f15e45f0b1272": {
          "model_module": "@jupyter-widgets/base",
          "model_name": "LayoutModel",
          "model_module_version": "1.2.0",
          "state": {
            "_model_module": "@jupyter-widgets/base",
            "_model_module_version": "1.2.0",
            "_model_name": "LayoutModel",
            "_view_count": null,
            "_view_module": "@jupyter-widgets/base",
            "_view_module_version": "1.2.0",
            "_view_name": "LayoutView",
            "align_content": null,
            "align_items": null,
            "align_self": null,
            "border": null,
            "bottom": null,
            "display": null,
            "flex": null,
            "flex_flow": null,
            "grid_area": null,
            "grid_auto_columns": null,
            "grid_auto_flow": null,
            "grid_auto_rows": null,
            "grid_column": null,
            "grid_gap": null,
            "grid_row": null,
            "grid_template_areas": null,
            "grid_template_columns": null,
            "grid_template_rows": null,
            "height": null,
            "justify_content": null,
            "justify_items": null,
            "left": null,
            "margin": null,
            "max_height": null,
            "max_width": null,
            "min_height": null,
            "min_width": null,
            "object_fit": null,
            "object_position": null,
            "order": null,
            "overflow": null,
            "overflow_x": null,
            "overflow_y": null,
            "padding": null,
            "right": null,
            "top": null,
            "visibility": null,
            "width": null
          }
        },
        "5ec66597095a459ba8fd44e3eefefc20": {
          "model_module": "@jupyter-widgets/base",
          "model_name": "LayoutModel",
          "model_module_version": "1.2.0",
          "state": {
            "_model_module": "@jupyter-widgets/base",
            "_model_module_version": "1.2.0",
            "_model_name": "LayoutModel",
            "_view_count": null,
            "_view_module": "@jupyter-widgets/base",
            "_view_module_version": "1.2.0",
            "_view_name": "LayoutView",
            "align_content": null,
            "align_items": null,
            "align_self": null,
            "border": null,
            "bottom": null,
            "display": null,
            "flex": null,
            "flex_flow": null,
            "grid_area": null,
            "grid_auto_columns": null,
            "grid_auto_flow": null,
            "grid_auto_rows": null,
            "grid_column": null,
            "grid_gap": null,
            "grid_row": null,
            "grid_template_areas": null,
            "grid_template_columns": null,
            "grid_template_rows": null,
            "height": null,
            "justify_content": null,
            "justify_items": null,
            "left": null,
            "margin": null,
            "max_height": null,
            "max_width": null,
            "min_height": null,
            "min_width": null,
            "object_fit": null,
            "object_position": null,
            "order": null,
            "overflow": null,
            "overflow_x": null,
            "overflow_y": null,
            "padding": null,
            "right": null,
            "top": null,
            "visibility": null,
            "width": null
          }
        },
        "fe1f23725425425aa12f57068a7e8518": {
          "model_module": "@jupyter-widgets/controls",
          "model_name": "DescriptionStyleModel",
          "model_module_version": "1.5.0",
          "state": {
            "_model_module": "@jupyter-widgets/controls",
            "_model_module_version": "1.5.0",
            "_model_name": "DescriptionStyleModel",
            "_view_count": null,
            "_view_module": "@jupyter-widgets/base",
            "_view_module_version": "1.2.0",
            "_view_name": "StyleView",
            "description_width": ""
          }
        },
        "7afae37727f14d7287ff7a51d7cf6802": {
          "model_module": "@jupyter-widgets/base",
          "model_name": "LayoutModel",
          "model_module_version": "1.2.0",
          "state": {
            "_model_module": "@jupyter-widgets/base",
            "_model_module_version": "1.2.0",
            "_model_name": "LayoutModel",
            "_view_count": null,
            "_view_module": "@jupyter-widgets/base",
            "_view_module_version": "1.2.0",
            "_view_name": "LayoutView",
            "align_content": null,
            "align_items": null,
            "align_self": null,
            "border": null,
            "bottom": null,
            "display": null,
            "flex": null,
            "flex_flow": null,
            "grid_area": null,
            "grid_auto_columns": null,
            "grid_auto_flow": null,
            "grid_auto_rows": null,
            "grid_column": null,
            "grid_gap": null,
            "grid_row": null,
            "grid_template_areas": null,
            "grid_template_columns": null,
            "grid_template_rows": null,
            "height": null,
            "justify_content": null,
            "justify_items": null,
            "left": null,
            "margin": null,
            "max_height": null,
            "max_width": null,
            "min_height": null,
            "min_width": null,
            "object_fit": null,
            "object_position": null,
            "order": null,
            "overflow": null,
            "overflow_x": null,
            "overflow_y": null,
            "padding": null,
            "right": null,
            "top": null,
            "visibility": null,
            "width": null
          }
        },
        "df2d5eed0df74d96b4637cbfe335b5ec": {
          "model_module": "@jupyter-widgets/controls",
          "model_name": "ProgressStyleModel",
          "model_module_version": "1.5.0",
          "state": {
            "_model_module": "@jupyter-widgets/controls",
            "_model_module_version": "1.5.0",
            "_model_name": "ProgressStyleModel",
            "_view_count": null,
            "_view_module": "@jupyter-widgets/base",
            "_view_module_version": "1.2.0",
            "_view_name": "StyleView",
            "bar_color": null,
            "description_width": ""
          }
        },
        "b10eeb8463b7453bb265ee98239e61f9": {
          "model_module": "@jupyter-widgets/base",
          "model_name": "LayoutModel",
          "model_module_version": "1.2.0",
          "state": {
            "_model_module": "@jupyter-widgets/base",
            "_model_module_version": "1.2.0",
            "_model_name": "LayoutModel",
            "_view_count": null,
            "_view_module": "@jupyter-widgets/base",
            "_view_module_version": "1.2.0",
            "_view_name": "LayoutView",
            "align_content": null,
            "align_items": null,
            "align_self": null,
            "border": null,
            "bottom": null,
            "display": null,
            "flex": null,
            "flex_flow": null,
            "grid_area": null,
            "grid_auto_columns": null,
            "grid_auto_flow": null,
            "grid_auto_rows": null,
            "grid_column": null,
            "grid_gap": null,
            "grid_row": null,
            "grid_template_areas": null,
            "grid_template_columns": null,
            "grid_template_rows": null,
            "height": null,
            "justify_content": null,
            "justify_items": null,
            "left": null,
            "margin": null,
            "max_height": null,
            "max_width": null,
            "min_height": null,
            "min_width": null,
            "object_fit": null,
            "object_position": null,
            "order": null,
            "overflow": null,
            "overflow_x": null,
            "overflow_y": null,
            "padding": null,
            "right": null,
            "top": null,
            "visibility": null,
            "width": null
          }
        },
        "32c2b441dd3f43c8b8e4dcbcfb61fa0a": {
          "model_module": "@jupyter-widgets/controls",
          "model_name": "DescriptionStyleModel",
          "model_module_version": "1.5.0",
          "state": {
            "_model_module": "@jupyter-widgets/controls",
            "_model_module_version": "1.5.0",
            "_model_name": "DescriptionStyleModel",
            "_view_count": null,
            "_view_module": "@jupyter-widgets/base",
            "_view_module_version": "1.2.0",
            "_view_name": "StyleView",
            "description_width": ""
          }
        },
        "eff97958c5bf4c7fb49bb6758d34a01c": {
          "model_module": "@jupyter-widgets/controls",
          "model_name": "HBoxModel",
          "model_module_version": "1.5.0",
          "state": {
            "_dom_classes": [],
            "_model_module": "@jupyter-widgets/controls",
            "_model_module_version": "1.5.0",
            "_model_name": "HBoxModel",
            "_view_count": null,
            "_view_module": "@jupyter-widgets/controls",
            "_view_module_version": "1.5.0",
            "_view_name": "HBoxView",
            "box_style": "",
            "children": [
              "IPY_MODEL_40fdc087e3594c0eb614ef3cd54ece04",
              "IPY_MODEL_80b7cddd1a6448428ca7692c56ca7116",
              "IPY_MODEL_d87104b660954c3fb7e6fae43aa083a3"
            ],
            "layout": "IPY_MODEL_c983ebda5dc94890b82fd6532bd32703"
          }
        },
        "40fdc087e3594c0eb614ef3cd54ece04": {
          "model_module": "@jupyter-widgets/controls",
          "model_name": "HTMLModel",
          "model_module_version": "1.5.0",
          "state": {
            "_dom_classes": [],
            "_model_module": "@jupyter-widgets/controls",
            "_model_module_version": "1.5.0",
            "_model_name": "HTMLModel",
            "_view_count": null,
            "_view_module": "@jupyter-widgets/controls",
            "_view_module_version": "1.5.0",
            "_view_name": "HTMLView",
            "description": "",
            "description_tooltip": null,
            "layout": "IPY_MODEL_66145b6308804792b99dee037d142840",
            "placeholder": "​",
            "style": "IPY_MODEL_e802f69ec7ea449ba44412d6e11ce620",
            "value": "100%"
          }
        },
        "80b7cddd1a6448428ca7692c56ca7116": {
          "model_module": "@jupyter-widgets/controls",
          "model_name": "FloatProgressModel",
          "model_module_version": "1.5.0",
          "state": {
            "_dom_classes": [],
            "_model_module": "@jupyter-widgets/controls",
            "_model_module_version": "1.5.0",
            "_model_name": "FloatProgressModel",
            "_view_count": null,
            "_view_module": "@jupyter-widgets/controls",
            "_view_module_version": "1.5.0",
            "_view_name": "ProgressView",
            "bar_style": "success",
            "description": "",
            "description_tooltip": null,
            "layout": "IPY_MODEL_233238d7fc4b426fa7b16002705115ec",
            "max": 50,
            "min": 0,
            "orientation": "horizontal",
            "style": "IPY_MODEL_c49ae9ec26f3446f82abf45cd452c7c8",
            "value": 50
          }
        },
        "d87104b660954c3fb7e6fae43aa083a3": {
          "model_module": "@jupyter-widgets/controls",
          "model_name": "HTMLModel",
          "model_module_version": "1.5.0",
          "state": {
            "_dom_classes": [],
            "_model_module": "@jupyter-widgets/controls",
            "_model_module_version": "1.5.0",
            "_model_name": "HTMLModel",
            "_view_count": null,
            "_view_module": "@jupyter-widgets/controls",
            "_view_module_version": "1.5.0",
            "_view_name": "HTMLView",
            "description": "",
            "description_tooltip": null,
            "layout": "IPY_MODEL_7668f8cabf484bf1bcc44258eed7fdb3",
            "placeholder": "​",
            "style": "IPY_MODEL_be95ed12dd624f70816ac84828930cea",
            "value": " 50/50 [02:27&lt;00:00,  2.95s/epoch]"
          }
        },
        "c983ebda5dc94890b82fd6532bd32703": {
          "model_module": "@jupyter-widgets/base",
          "model_name": "LayoutModel",
          "model_module_version": "1.2.0",
          "state": {
            "_model_module": "@jupyter-widgets/base",
            "_model_module_version": "1.2.0",
            "_model_name": "LayoutModel",
            "_view_count": null,
            "_view_module": "@jupyter-widgets/base",
            "_view_module_version": "1.2.0",
            "_view_name": "LayoutView",
            "align_content": null,
            "align_items": null,
            "align_self": null,
            "border": null,
            "bottom": null,
            "display": null,
            "flex": null,
            "flex_flow": null,
            "grid_area": null,
            "grid_auto_columns": null,
            "grid_auto_flow": null,
            "grid_auto_rows": null,
            "grid_column": null,
            "grid_gap": null,
            "grid_row": null,
            "grid_template_areas": null,
            "grid_template_columns": null,
            "grid_template_rows": null,
            "height": null,
            "justify_content": null,
            "justify_items": null,
            "left": null,
            "margin": null,
            "max_height": null,
            "max_width": null,
            "min_height": null,
            "min_width": null,
            "object_fit": null,
            "object_position": null,
            "order": null,
            "overflow": null,
            "overflow_x": null,
            "overflow_y": null,
            "padding": null,
            "right": null,
            "top": null,
            "visibility": null,
            "width": null
          }
        },
        "66145b6308804792b99dee037d142840": {
          "model_module": "@jupyter-widgets/base",
          "model_name": "LayoutModel",
          "model_module_version": "1.2.0",
          "state": {
            "_model_module": "@jupyter-widgets/base",
            "_model_module_version": "1.2.0",
            "_model_name": "LayoutModel",
            "_view_count": null,
            "_view_module": "@jupyter-widgets/base",
            "_view_module_version": "1.2.0",
            "_view_name": "LayoutView",
            "align_content": null,
            "align_items": null,
            "align_self": null,
            "border": null,
            "bottom": null,
            "display": null,
            "flex": null,
            "flex_flow": null,
            "grid_area": null,
            "grid_auto_columns": null,
            "grid_auto_flow": null,
            "grid_auto_rows": null,
            "grid_column": null,
            "grid_gap": null,
            "grid_row": null,
            "grid_template_areas": null,
            "grid_template_columns": null,
            "grid_template_rows": null,
            "height": null,
            "justify_content": null,
            "justify_items": null,
            "left": null,
            "margin": null,
            "max_height": null,
            "max_width": null,
            "min_height": null,
            "min_width": null,
            "object_fit": null,
            "object_position": null,
            "order": null,
            "overflow": null,
            "overflow_x": null,
            "overflow_y": null,
            "padding": null,
            "right": null,
            "top": null,
            "visibility": null,
            "width": null
          }
        },
        "e802f69ec7ea449ba44412d6e11ce620": {
          "model_module": "@jupyter-widgets/controls",
          "model_name": "DescriptionStyleModel",
          "model_module_version": "1.5.0",
          "state": {
            "_model_module": "@jupyter-widgets/controls",
            "_model_module_version": "1.5.0",
            "_model_name": "DescriptionStyleModel",
            "_view_count": null,
            "_view_module": "@jupyter-widgets/base",
            "_view_module_version": "1.2.0",
            "_view_name": "StyleView",
            "description_width": ""
          }
        },
        "233238d7fc4b426fa7b16002705115ec": {
          "model_module": "@jupyter-widgets/base",
          "model_name": "LayoutModel",
          "model_module_version": "1.2.0",
          "state": {
            "_model_module": "@jupyter-widgets/base",
            "_model_module_version": "1.2.0",
            "_model_name": "LayoutModel",
            "_view_count": null,
            "_view_module": "@jupyter-widgets/base",
            "_view_module_version": "1.2.0",
            "_view_name": "LayoutView",
            "align_content": null,
            "align_items": null,
            "align_self": null,
            "border": null,
            "bottom": null,
            "display": null,
            "flex": null,
            "flex_flow": null,
            "grid_area": null,
            "grid_auto_columns": null,
            "grid_auto_flow": null,
            "grid_auto_rows": null,
            "grid_column": null,
            "grid_gap": null,
            "grid_row": null,
            "grid_template_areas": null,
            "grid_template_columns": null,
            "grid_template_rows": null,
            "height": null,
            "justify_content": null,
            "justify_items": null,
            "left": null,
            "margin": null,
            "max_height": null,
            "max_width": null,
            "min_height": null,
            "min_width": null,
            "object_fit": null,
            "object_position": null,
            "order": null,
            "overflow": null,
            "overflow_x": null,
            "overflow_y": null,
            "padding": null,
            "right": null,
            "top": null,
            "visibility": null,
            "width": null
          }
        },
        "c49ae9ec26f3446f82abf45cd452c7c8": {
          "model_module": "@jupyter-widgets/controls",
          "model_name": "ProgressStyleModel",
          "model_module_version": "1.5.0",
          "state": {
            "_model_module": "@jupyter-widgets/controls",
            "_model_module_version": "1.5.0",
            "_model_name": "ProgressStyleModel",
            "_view_count": null,
            "_view_module": "@jupyter-widgets/base",
            "_view_module_version": "1.2.0",
            "_view_name": "StyleView",
            "bar_color": null,
            "description_width": ""
          }
        },
        "7668f8cabf484bf1bcc44258eed7fdb3": {
          "model_module": "@jupyter-widgets/base",
          "model_name": "LayoutModel",
          "model_module_version": "1.2.0",
          "state": {
            "_model_module": "@jupyter-widgets/base",
            "_model_module_version": "1.2.0",
            "_model_name": "LayoutModel",
            "_view_count": null,
            "_view_module": "@jupyter-widgets/base",
            "_view_module_version": "1.2.0",
            "_view_name": "LayoutView",
            "align_content": null,
            "align_items": null,
            "align_self": null,
            "border": null,
            "bottom": null,
            "display": null,
            "flex": null,
            "flex_flow": null,
            "grid_area": null,
            "grid_auto_columns": null,
            "grid_auto_flow": null,
            "grid_auto_rows": null,
            "grid_column": null,
            "grid_gap": null,
            "grid_row": null,
            "grid_template_areas": null,
            "grid_template_columns": null,
            "grid_template_rows": null,
            "height": null,
            "justify_content": null,
            "justify_items": null,
            "left": null,
            "margin": null,
            "max_height": null,
            "max_width": null,
            "min_height": null,
            "min_width": null,
            "object_fit": null,
            "object_position": null,
            "order": null,
            "overflow": null,
            "overflow_x": null,
            "overflow_y": null,
            "padding": null,
            "right": null,
            "top": null,
            "visibility": null,
            "width": null
          }
        },
        "be95ed12dd624f70816ac84828930cea": {
          "model_module": "@jupyter-widgets/controls",
          "model_name": "DescriptionStyleModel",
          "model_module_version": "1.5.0",
          "state": {
            "_model_module": "@jupyter-widgets/controls",
            "_model_module_version": "1.5.0",
            "_model_name": "DescriptionStyleModel",
            "_view_count": null,
            "_view_module": "@jupyter-widgets/base",
            "_view_module_version": "1.2.0",
            "_view_name": "StyleView",
            "description_width": ""
          }
        },
        "2dd6a47033f444ca9ed784e372b1159e": {
          "model_module": "@jupyter-widgets/controls",
          "model_name": "HBoxModel",
          "model_module_version": "1.5.0",
          "state": {
            "_dom_classes": [],
            "_model_module": "@jupyter-widgets/controls",
            "_model_module_version": "1.5.0",
            "_model_name": "HBoxModel",
            "_view_count": null,
            "_view_module": "@jupyter-widgets/controls",
            "_view_module_version": "1.5.0",
            "_view_name": "HBoxView",
            "box_style": "",
            "children": [
              "IPY_MODEL_412543a586f4433294a5bf475975d7ff",
              "IPY_MODEL_e7957d425c424444934be58881dce8c3",
              "IPY_MODEL_9599b199f93e43a2b1be21ad2636ba3e"
            ],
            "layout": "IPY_MODEL_3ff12d4dc9c54ae0bf62a634e9cdfc15"
          }
        },
        "412543a586f4433294a5bf475975d7ff": {
          "model_module": "@jupyter-widgets/controls",
          "model_name": "HTMLModel",
          "model_module_version": "1.5.0",
          "state": {
            "_dom_classes": [],
            "_model_module": "@jupyter-widgets/controls",
            "_model_module_version": "1.5.0",
            "_model_name": "HTMLModel",
            "_view_count": null,
            "_view_module": "@jupyter-widgets/controls",
            "_view_module_version": "1.5.0",
            "_view_name": "HTMLView",
            "description": "",
            "description_tooltip": null,
            "layout": "IPY_MODEL_a76f372a6e0d498798795d4374fc3d0b",
            "placeholder": "​",
            "style": "IPY_MODEL_6e50bd5990f44c08adc27500c96ebab1",
            "value": "100%"
          }
        },
        "e7957d425c424444934be58881dce8c3": {
          "model_module": "@jupyter-widgets/controls",
          "model_name": "FloatProgressModel",
          "model_module_version": "1.5.0",
          "state": {
            "_dom_classes": [],
            "_model_module": "@jupyter-widgets/controls",
            "_model_module_version": "1.5.0",
            "_model_name": "FloatProgressModel",
            "_view_count": null,
            "_view_module": "@jupyter-widgets/controls",
            "_view_module_version": "1.5.0",
            "_view_name": "ProgressView",
            "bar_style": "success",
            "description": "",
            "description_tooltip": null,
            "layout": "IPY_MODEL_80324d3f7360415cbea973428e10c503",
            "max": 150,
            "min": 0,
            "orientation": "horizontal",
            "style": "IPY_MODEL_7c176f227a28485db37c517ef4fc708c",
            "value": 150
          }
        },
        "9599b199f93e43a2b1be21ad2636ba3e": {
          "model_module": "@jupyter-widgets/controls",
          "model_name": "HTMLModel",
          "model_module_version": "1.5.0",
          "state": {
            "_dom_classes": [],
            "_model_module": "@jupyter-widgets/controls",
            "_model_module_version": "1.5.0",
            "_model_name": "HTMLModel",
            "_view_count": null,
            "_view_module": "@jupyter-widgets/controls",
            "_view_module_version": "1.5.0",
            "_view_name": "HTMLView",
            "description": "",
            "description_tooltip": null,
            "layout": "IPY_MODEL_9fb4765fba17451a8a7c5d949d8f980b",
            "placeholder": "​",
            "style": "IPY_MODEL_2f7283f40fba49e895b17850550c580a",
            "value": " 150/150 [07:55&lt;00:00,  3.03s/epoch]"
          }
        },
        "3ff12d4dc9c54ae0bf62a634e9cdfc15": {
          "model_module": "@jupyter-widgets/base",
          "model_name": "LayoutModel",
          "model_module_version": "1.2.0",
          "state": {
            "_model_module": "@jupyter-widgets/base",
            "_model_module_version": "1.2.0",
            "_model_name": "LayoutModel",
            "_view_count": null,
            "_view_module": "@jupyter-widgets/base",
            "_view_module_version": "1.2.0",
            "_view_name": "LayoutView",
            "align_content": null,
            "align_items": null,
            "align_self": null,
            "border": null,
            "bottom": null,
            "display": null,
            "flex": null,
            "flex_flow": null,
            "grid_area": null,
            "grid_auto_columns": null,
            "grid_auto_flow": null,
            "grid_auto_rows": null,
            "grid_column": null,
            "grid_gap": null,
            "grid_row": null,
            "grid_template_areas": null,
            "grid_template_columns": null,
            "grid_template_rows": null,
            "height": null,
            "justify_content": null,
            "justify_items": null,
            "left": null,
            "margin": null,
            "max_height": null,
            "max_width": null,
            "min_height": null,
            "min_width": null,
            "object_fit": null,
            "object_position": null,
            "order": null,
            "overflow": null,
            "overflow_x": null,
            "overflow_y": null,
            "padding": null,
            "right": null,
            "top": null,
            "visibility": null,
            "width": null
          }
        },
        "a76f372a6e0d498798795d4374fc3d0b": {
          "model_module": "@jupyter-widgets/base",
          "model_name": "LayoutModel",
          "model_module_version": "1.2.0",
          "state": {
            "_model_module": "@jupyter-widgets/base",
            "_model_module_version": "1.2.0",
            "_model_name": "LayoutModel",
            "_view_count": null,
            "_view_module": "@jupyter-widgets/base",
            "_view_module_version": "1.2.0",
            "_view_name": "LayoutView",
            "align_content": null,
            "align_items": null,
            "align_self": null,
            "border": null,
            "bottom": null,
            "display": null,
            "flex": null,
            "flex_flow": null,
            "grid_area": null,
            "grid_auto_columns": null,
            "grid_auto_flow": null,
            "grid_auto_rows": null,
            "grid_column": null,
            "grid_gap": null,
            "grid_row": null,
            "grid_template_areas": null,
            "grid_template_columns": null,
            "grid_template_rows": null,
            "height": null,
            "justify_content": null,
            "justify_items": null,
            "left": null,
            "margin": null,
            "max_height": null,
            "max_width": null,
            "min_height": null,
            "min_width": null,
            "object_fit": null,
            "object_position": null,
            "order": null,
            "overflow": null,
            "overflow_x": null,
            "overflow_y": null,
            "padding": null,
            "right": null,
            "top": null,
            "visibility": null,
            "width": null
          }
        },
        "6e50bd5990f44c08adc27500c96ebab1": {
          "model_module": "@jupyter-widgets/controls",
          "model_name": "DescriptionStyleModel",
          "model_module_version": "1.5.0",
          "state": {
            "_model_module": "@jupyter-widgets/controls",
            "_model_module_version": "1.5.0",
            "_model_name": "DescriptionStyleModel",
            "_view_count": null,
            "_view_module": "@jupyter-widgets/base",
            "_view_module_version": "1.2.0",
            "_view_name": "StyleView",
            "description_width": ""
          }
        },
        "80324d3f7360415cbea973428e10c503": {
          "model_module": "@jupyter-widgets/base",
          "model_name": "LayoutModel",
          "model_module_version": "1.2.0",
          "state": {
            "_model_module": "@jupyter-widgets/base",
            "_model_module_version": "1.2.0",
            "_model_name": "LayoutModel",
            "_view_count": null,
            "_view_module": "@jupyter-widgets/base",
            "_view_module_version": "1.2.0",
            "_view_name": "LayoutView",
            "align_content": null,
            "align_items": null,
            "align_self": null,
            "border": null,
            "bottom": null,
            "display": null,
            "flex": null,
            "flex_flow": null,
            "grid_area": null,
            "grid_auto_columns": null,
            "grid_auto_flow": null,
            "grid_auto_rows": null,
            "grid_column": null,
            "grid_gap": null,
            "grid_row": null,
            "grid_template_areas": null,
            "grid_template_columns": null,
            "grid_template_rows": null,
            "height": null,
            "justify_content": null,
            "justify_items": null,
            "left": null,
            "margin": null,
            "max_height": null,
            "max_width": null,
            "min_height": null,
            "min_width": null,
            "object_fit": null,
            "object_position": null,
            "order": null,
            "overflow": null,
            "overflow_x": null,
            "overflow_y": null,
            "padding": null,
            "right": null,
            "top": null,
            "visibility": null,
            "width": null
          }
        },
        "7c176f227a28485db37c517ef4fc708c": {
          "model_module": "@jupyter-widgets/controls",
          "model_name": "ProgressStyleModel",
          "model_module_version": "1.5.0",
          "state": {
            "_model_module": "@jupyter-widgets/controls",
            "_model_module_version": "1.5.0",
            "_model_name": "ProgressStyleModel",
            "_view_count": null,
            "_view_module": "@jupyter-widgets/base",
            "_view_module_version": "1.2.0",
            "_view_name": "StyleView",
            "bar_color": null,
            "description_width": ""
          }
        },
        "9fb4765fba17451a8a7c5d949d8f980b": {
          "model_module": "@jupyter-widgets/base",
          "model_name": "LayoutModel",
          "model_module_version": "1.2.0",
          "state": {
            "_model_module": "@jupyter-widgets/base",
            "_model_module_version": "1.2.0",
            "_model_name": "LayoutModel",
            "_view_count": null,
            "_view_module": "@jupyter-widgets/base",
            "_view_module_version": "1.2.0",
            "_view_name": "LayoutView",
            "align_content": null,
            "align_items": null,
            "align_self": null,
            "border": null,
            "bottom": null,
            "display": null,
            "flex": null,
            "flex_flow": null,
            "grid_area": null,
            "grid_auto_columns": null,
            "grid_auto_flow": null,
            "grid_auto_rows": null,
            "grid_column": null,
            "grid_gap": null,
            "grid_row": null,
            "grid_template_areas": null,
            "grid_template_columns": null,
            "grid_template_rows": null,
            "height": null,
            "justify_content": null,
            "justify_items": null,
            "left": null,
            "margin": null,
            "max_height": null,
            "max_width": null,
            "min_height": null,
            "min_width": null,
            "object_fit": null,
            "object_position": null,
            "order": null,
            "overflow": null,
            "overflow_x": null,
            "overflow_y": null,
            "padding": null,
            "right": null,
            "top": null,
            "visibility": null,
            "width": null
          }
        },
        "2f7283f40fba49e895b17850550c580a": {
          "model_module": "@jupyter-widgets/controls",
          "model_name": "DescriptionStyleModel",
          "model_module_version": "1.5.0",
          "state": {
            "_model_module": "@jupyter-widgets/controls",
            "_model_module_version": "1.5.0",
            "_model_name": "DescriptionStyleModel",
            "_view_count": null,
            "_view_module": "@jupyter-widgets/base",
            "_view_module_version": "1.2.0",
            "_view_name": "StyleView",
            "description_width": ""
          }
        },
        "fb2782ee3b8d4803a5d4328f0792c06b": {
          "model_module": "@jupyter-widgets/controls",
          "model_name": "HBoxModel",
          "model_module_version": "1.5.0",
          "state": {
            "_dom_classes": [],
            "_model_module": "@jupyter-widgets/controls",
            "_model_module_version": "1.5.0",
            "_model_name": "HBoxModel",
            "_view_count": null,
            "_view_module": "@jupyter-widgets/controls",
            "_view_module_version": "1.5.0",
            "_view_name": "HBoxView",
            "box_style": "",
            "children": [
              "IPY_MODEL_ff9ddaf9a4ad4e8c9cd98898c162f4b6",
              "IPY_MODEL_e3a090d238e84fd0bc9085cebd301771",
              "IPY_MODEL_5c1533088c684b2297503fc61469cd6b"
            ],
            "layout": "IPY_MODEL_f127402a42e8499b827db170d6360a0f"
          }
        },
        "ff9ddaf9a4ad4e8c9cd98898c162f4b6": {
          "model_module": "@jupyter-widgets/controls",
          "model_name": "HTMLModel",
          "model_module_version": "1.5.0",
          "state": {
            "_dom_classes": [],
            "_model_module": "@jupyter-widgets/controls",
            "_model_module_version": "1.5.0",
            "_model_name": "HTMLModel",
            "_view_count": null,
            "_view_module": "@jupyter-widgets/controls",
            "_view_module_version": "1.5.0",
            "_view_name": "HTMLView",
            "description": "",
            "description_tooltip": null,
            "layout": "IPY_MODEL_498f8f30a0c640188a258d8f7c5e34db",
            "placeholder": "​",
            "style": "IPY_MODEL_cad5884d5ed846cdb7bf796cb8cb01b7",
            "value": "100%"
          }
        },
        "e3a090d238e84fd0bc9085cebd301771": {
          "model_module": "@jupyter-widgets/controls",
          "model_name": "FloatProgressModel",
          "model_module_version": "1.5.0",
          "state": {
            "_dom_classes": [],
            "_model_module": "@jupyter-widgets/controls",
            "_model_module_version": "1.5.0",
            "_model_name": "FloatProgressModel",
            "_view_count": null,
            "_view_module": "@jupyter-widgets/controls",
            "_view_module_version": "1.5.0",
            "_view_name": "ProgressView",
            "bar_style": "success",
            "description": "",
            "description_tooltip": null,
            "layout": "IPY_MODEL_80ae25a36e94484187e819d0a851d65f",
            "max": 150,
            "min": 0,
            "orientation": "horizontal",
            "style": "IPY_MODEL_e9778060cdd44373a998189af072a96e",
            "value": 150
          }
        },
        "5c1533088c684b2297503fc61469cd6b": {
          "model_module": "@jupyter-widgets/controls",
          "model_name": "HTMLModel",
          "model_module_version": "1.5.0",
          "state": {
            "_dom_classes": [],
            "_model_module": "@jupyter-widgets/controls",
            "_model_module_version": "1.5.0",
            "_model_name": "HTMLModel",
            "_view_count": null,
            "_view_module": "@jupyter-widgets/controls",
            "_view_module_version": "1.5.0",
            "_view_name": "HTMLView",
            "description": "",
            "description_tooltip": null,
            "layout": "IPY_MODEL_e288432ebe784bd5a205ad6172aa4071",
            "placeholder": "​",
            "style": "IPY_MODEL_b7d578a1608648fbabbe0f18ea829ef8",
            "value": " 150/150 [07:24&lt;00:00,  2.89s/epoch]"
          }
        },
        "f127402a42e8499b827db170d6360a0f": {
          "model_module": "@jupyter-widgets/base",
          "model_name": "LayoutModel",
          "model_module_version": "1.2.0",
          "state": {
            "_model_module": "@jupyter-widgets/base",
            "_model_module_version": "1.2.0",
            "_model_name": "LayoutModel",
            "_view_count": null,
            "_view_module": "@jupyter-widgets/base",
            "_view_module_version": "1.2.0",
            "_view_name": "LayoutView",
            "align_content": null,
            "align_items": null,
            "align_self": null,
            "border": null,
            "bottom": null,
            "display": null,
            "flex": null,
            "flex_flow": null,
            "grid_area": null,
            "grid_auto_columns": null,
            "grid_auto_flow": null,
            "grid_auto_rows": null,
            "grid_column": null,
            "grid_gap": null,
            "grid_row": null,
            "grid_template_areas": null,
            "grid_template_columns": null,
            "grid_template_rows": null,
            "height": null,
            "justify_content": null,
            "justify_items": null,
            "left": null,
            "margin": null,
            "max_height": null,
            "max_width": null,
            "min_height": null,
            "min_width": null,
            "object_fit": null,
            "object_position": null,
            "order": null,
            "overflow": null,
            "overflow_x": null,
            "overflow_y": null,
            "padding": null,
            "right": null,
            "top": null,
            "visibility": null,
            "width": null
          }
        },
        "498f8f30a0c640188a258d8f7c5e34db": {
          "model_module": "@jupyter-widgets/base",
          "model_name": "LayoutModel",
          "model_module_version": "1.2.0",
          "state": {
            "_model_module": "@jupyter-widgets/base",
            "_model_module_version": "1.2.0",
            "_model_name": "LayoutModel",
            "_view_count": null,
            "_view_module": "@jupyter-widgets/base",
            "_view_module_version": "1.2.0",
            "_view_name": "LayoutView",
            "align_content": null,
            "align_items": null,
            "align_self": null,
            "border": null,
            "bottom": null,
            "display": null,
            "flex": null,
            "flex_flow": null,
            "grid_area": null,
            "grid_auto_columns": null,
            "grid_auto_flow": null,
            "grid_auto_rows": null,
            "grid_column": null,
            "grid_gap": null,
            "grid_row": null,
            "grid_template_areas": null,
            "grid_template_columns": null,
            "grid_template_rows": null,
            "height": null,
            "justify_content": null,
            "justify_items": null,
            "left": null,
            "margin": null,
            "max_height": null,
            "max_width": null,
            "min_height": null,
            "min_width": null,
            "object_fit": null,
            "object_position": null,
            "order": null,
            "overflow": null,
            "overflow_x": null,
            "overflow_y": null,
            "padding": null,
            "right": null,
            "top": null,
            "visibility": null,
            "width": null
          }
        },
        "cad5884d5ed846cdb7bf796cb8cb01b7": {
          "model_module": "@jupyter-widgets/controls",
          "model_name": "DescriptionStyleModel",
          "model_module_version": "1.5.0",
          "state": {
            "_model_module": "@jupyter-widgets/controls",
            "_model_module_version": "1.5.0",
            "_model_name": "DescriptionStyleModel",
            "_view_count": null,
            "_view_module": "@jupyter-widgets/base",
            "_view_module_version": "1.2.0",
            "_view_name": "StyleView",
            "description_width": ""
          }
        },
        "80ae25a36e94484187e819d0a851d65f": {
          "model_module": "@jupyter-widgets/base",
          "model_name": "LayoutModel",
          "model_module_version": "1.2.0",
          "state": {
            "_model_module": "@jupyter-widgets/base",
            "_model_module_version": "1.2.0",
            "_model_name": "LayoutModel",
            "_view_count": null,
            "_view_module": "@jupyter-widgets/base",
            "_view_module_version": "1.2.0",
            "_view_name": "LayoutView",
            "align_content": null,
            "align_items": null,
            "align_self": null,
            "border": null,
            "bottom": null,
            "display": null,
            "flex": null,
            "flex_flow": null,
            "grid_area": null,
            "grid_auto_columns": null,
            "grid_auto_flow": null,
            "grid_auto_rows": null,
            "grid_column": null,
            "grid_gap": null,
            "grid_row": null,
            "grid_template_areas": null,
            "grid_template_columns": null,
            "grid_template_rows": null,
            "height": null,
            "justify_content": null,
            "justify_items": null,
            "left": null,
            "margin": null,
            "max_height": null,
            "max_width": null,
            "min_height": null,
            "min_width": null,
            "object_fit": null,
            "object_position": null,
            "order": null,
            "overflow": null,
            "overflow_x": null,
            "overflow_y": null,
            "padding": null,
            "right": null,
            "top": null,
            "visibility": null,
            "width": null
          }
        },
        "e9778060cdd44373a998189af072a96e": {
          "model_module": "@jupyter-widgets/controls",
          "model_name": "ProgressStyleModel",
          "model_module_version": "1.5.0",
          "state": {
            "_model_module": "@jupyter-widgets/controls",
            "_model_module_version": "1.5.0",
            "_model_name": "ProgressStyleModel",
            "_view_count": null,
            "_view_module": "@jupyter-widgets/base",
            "_view_module_version": "1.2.0",
            "_view_name": "StyleView",
            "bar_color": null,
            "description_width": ""
          }
        },
        "e288432ebe784bd5a205ad6172aa4071": {
          "model_module": "@jupyter-widgets/base",
          "model_name": "LayoutModel",
          "model_module_version": "1.2.0",
          "state": {
            "_model_module": "@jupyter-widgets/base",
            "_model_module_version": "1.2.0",
            "_model_name": "LayoutModel",
            "_view_count": null,
            "_view_module": "@jupyter-widgets/base",
            "_view_module_version": "1.2.0",
            "_view_name": "LayoutView",
            "align_content": null,
            "align_items": null,
            "align_self": null,
            "border": null,
            "bottom": null,
            "display": null,
            "flex": null,
            "flex_flow": null,
            "grid_area": null,
            "grid_auto_columns": null,
            "grid_auto_flow": null,
            "grid_auto_rows": null,
            "grid_column": null,
            "grid_gap": null,
            "grid_row": null,
            "grid_template_areas": null,
            "grid_template_columns": null,
            "grid_template_rows": null,
            "height": null,
            "justify_content": null,
            "justify_items": null,
            "left": null,
            "margin": null,
            "max_height": null,
            "max_width": null,
            "min_height": null,
            "min_width": null,
            "object_fit": null,
            "object_position": null,
            "order": null,
            "overflow": null,
            "overflow_x": null,
            "overflow_y": null,
            "padding": null,
            "right": null,
            "top": null,
            "visibility": null,
            "width": null
          }
        },
        "b7d578a1608648fbabbe0f18ea829ef8": {
          "model_module": "@jupyter-widgets/controls",
          "model_name": "DescriptionStyleModel",
          "model_module_version": "1.5.0",
          "state": {
            "_model_module": "@jupyter-widgets/controls",
            "_model_module_version": "1.5.0",
            "_model_name": "DescriptionStyleModel",
            "_view_count": null,
            "_view_module": "@jupyter-widgets/base",
            "_view_module_version": "1.2.0",
            "_view_name": "StyleView",
            "description_width": ""
          }
        },
        "598bc23cec3d496cb61eb22fde3f4079": {
          "model_module": "@jupyter-widgets/controls",
          "model_name": "HBoxModel",
          "model_module_version": "1.5.0",
          "state": {
            "_dom_classes": [],
            "_model_module": "@jupyter-widgets/controls",
            "_model_module_version": "1.5.0",
            "_model_name": "HBoxModel",
            "_view_count": null,
            "_view_module": "@jupyter-widgets/controls",
            "_view_module_version": "1.5.0",
            "_view_name": "HBoxView",
            "box_style": "",
            "children": [
              "IPY_MODEL_dd53b92a3bd14797be08baa0b0780d5f",
              "IPY_MODEL_71e8f4f84ba54996b2f1cd9d04341264",
              "IPY_MODEL_8caae13b1da240698bc2f8cb1b567993"
            ],
            "layout": "IPY_MODEL_4975811e372a4b219e5522e41cde7182"
          }
        },
        "dd53b92a3bd14797be08baa0b0780d5f": {
          "model_module": "@jupyter-widgets/controls",
          "model_name": "HTMLModel",
          "model_module_version": "1.5.0",
          "state": {
            "_dom_classes": [],
            "_model_module": "@jupyter-widgets/controls",
            "_model_module_version": "1.5.0",
            "_model_name": "HTMLModel",
            "_view_count": null,
            "_view_module": "@jupyter-widgets/controls",
            "_view_module_version": "1.5.0",
            "_view_name": "HTMLView",
            "description": "",
            "description_tooltip": null,
            "layout": "IPY_MODEL_727ce760510643a090e7d23d9d4ab292",
            "placeholder": "​",
            "style": "IPY_MODEL_3bf143b3070e43b199d6b300e5318023",
            "value": "100%"
          }
        },
        "71e8f4f84ba54996b2f1cd9d04341264": {
          "model_module": "@jupyter-widgets/controls",
          "model_name": "FloatProgressModel",
          "model_module_version": "1.5.0",
          "state": {
            "_dom_classes": [],
            "_model_module": "@jupyter-widgets/controls",
            "_model_module_version": "1.5.0",
            "_model_name": "FloatProgressModel",
            "_view_count": null,
            "_view_module": "@jupyter-widgets/controls",
            "_view_module_version": "1.5.0",
            "_view_name": "ProgressView",
            "bar_style": "success",
            "description": "",
            "description_tooltip": null,
            "layout": "IPY_MODEL_427ec614fc92498bb0c63f2ba341a4b7",
            "max": 150,
            "min": 0,
            "orientation": "horizontal",
            "style": "IPY_MODEL_44e1cc4f83c04cb2a71f8c7ff9c4bad4",
            "value": 150
          }
        },
        "8caae13b1da240698bc2f8cb1b567993": {
          "model_module": "@jupyter-widgets/controls",
          "model_name": "HTMLModel",
          "model_module_version": "1.5.0",
          "state": {
            "_dom_classes": [],
            "_model_module": "@jupyter-widgets/controls",
            "_model_module_version": "1.5.0",
            "_model_name": "HTMLModel",
            "_view_count": null,
            "_view_module": "@jupyter-widgets/controls",
            "_view_module_version": "1.5.0",
            "_view_name": "HTMLView",
            "description": "",
            "description_tooltip": null,
            "layout": "IPY_MODEL_f89dbdbe8ddd47ae8239a7ea7e4a9960",
            "placeholder": "​",
            "style": "IPY_MODEL_0d03831006f04e3691fb448005d5abac",
            "value": " 150/150 [08:05&lt;00:00,  2.80s/epoch]"
          }
        },
        "4975811e372a4b219e5522e41cde7182": {
          "model_module": "@jupyter-widgets/base",
          "model_name": "LayoutModel",
          "model_module_version": "1.2.0",
          "state": {
            "_model_module": "@jupyter-widgets/base",
            "_model_module_version": "1.2.0",
            "_model_name": "LayoutModel",
            "_view_count": null,
            "_view_module": "@jupyter-widgets/base",
            "_view_module_version": "1.2.0",
            "_view_name": "LayoutView",
            "align_content": null,
            "align_items": null,
            "align_self": null,
            "border": null,
            "bottom": null,
            "display": null,
            "flex": null,
            "flex_flow": null,
            "grid_area": null,
            "grid_auto_columns": null,
            "grid_auto_flow": null,
            "grid_auto_rows": null,
            "grid_column": null,
            "grid_gap": null,
            "grid_row": null,
            "grid_template_areas": null,
            "grid_template_columns": null,
            "grid_template_rows": null,
            "height": null,
            "justify_content": null,
            "justify_items": null,
            "left": null,
            "margin": null,
            "max_height": null,
            "max_width": null,
            "min_height": null,
            "min_width": null,
            "object_fit": null,
            "object_position": null,
            "order": null,
            "overflow": null,
            "overflow_x": null,
            "overflow_y": null,
            "padding": null,
            "right": null,
            "top": null,
            "visibility": null,
            "width": null
          }
        },
        "727ce760510643a090e7d23d9d4ab292": {
          "model_module": "@jupyter-widgets/base",
          "model_name": "LayoutModel",
          "model_module_version": "1.2.0",
          "state": {
            "_model_module": "@jupyter-widgets/base",
            "_model_module_version": "1.2.0",
            "_model_name": "LayoutModel",
            "_view_count": null,
            "_view_module": "@jupyter-widgets/base",
            "_view_module_version": "1.2.0",
            "_view_name": "LayoutView",
            "align_content": null,
            "align_items": null,
            "align_self": null,
            "border": null,
            "bottom": null,
            "display": null,
            "flex": null,
            "flex_flow": null,
            "grid_area": null,
            "grid_auto_columns": null,
            "grid_auto_flow": null,
            "grid_auto_rows": null,
            "grid_column": null,
            "grid_gap": null,
            "grid_row": null,
            "grid_template_areas": null,
            "grid_template_columns": null,
            "grid_template_rows": null,
            "height": null,
            "justify_content": null,
            "justify_items": null,
            "left": null,
            "margin": null,
            "max_height": null,
            "max_width": null,
            "min_height": null,
            "min_width": null,
            "object_fit": null,
            "object_position": null,
            "order": null,
            "overflow": null,
            "overflow_x": null,
            "overflow_y": null,
            "padding": null,
            "right": null,
            "top": null,
            "visibility": null,
            "width": null
          }
        },
        "3bf143b3070e43b199d6b300e5318023": {
          "model_module": "@jupyter-widgets/controls",
          "model_name": "DescriptionStyleModel",
          "model_module_version": "1.5.0",
          "state": {
            "_model_module": "@jupyter-widgets/controls",
            "_model_module_version": "1.5.0",
            "_model_name": "DescriptionStyleModel",
            "_view_count": null,
            "_view_module": "@jupyter-widgets/base",
            "_view_module_version": "1.2.0",
            "_view_name": "StyleView",
            "description_width": ""
          }
        },
        "427ec614fc92498bb0c63f2ba341a4b7": {
          "model_module": "@jupyter-widgets/base",
          "model_name": "LayoutModel",
          "model_module_version": "1.2.0",
          "state": {
            "_model_module": "@jupyter-widgets/base",
            "_model_module_version": "1.2.0",
            "_model_name": "LayoutModel",
            "_view_count": null,
            "_view_module": "@jupyter-widgets/base",
            "_view_module_version": "1.2.0",
            "_view_name": "LayoutView",
            "align_content": null,
            "align_items": null,
            "align_self": null,
            "border": null,
            "bottom": null,
            "display": null,
            "flex": null,
            "flex_flow": null,
            "grid_area": null,
            "grid_auto_columns": null,
            "grid_auto_flow": null,
            "grid_auto_rows": null,
            "grid_column": null,
            "grid_gap": null,
            "grid_row": null,
            "grid_template_areas": null,
            "grid_template_columns": null,
            "grid_template_rows": null,
            "height": null,
            "justify_content": null,
            "justify_items": null,
            "left": null,
            "margin": null,
            "max_height": null,
            "max_width": null,
            "min_height": null,
            "min_width": null,
            "object_fit": null,
            "object_position": null,
            "order": null,
            "overflow": null,
            "overflow_x": null,
            "overflow_y": null,
            "padding": null,
            "right": null,
            "top": null,
            "visibility": null,
            "width": null
          }
        },
        "44e1cc4f83c04cb2a71f8c7ff9c4bad4": {
          "model_module": "@jupyter-widgets/controls",
          "model_name": "ProgressStyleModel",
          "model_module_version": "1.5.0",
          "state": {
            "_model_module": "@jupyter-widgets/controls",
            "_model_module_version": "1.5.0",
            "_model_name": "ProgressStyleModel",
            "_view_count": null,
            "_view_module": "@jupyter-widgets/base",
            "_view_module_version": "1.2.0",
            "_view_name": "StyleView",
            "bar_color": null,
            "description_width": ""
          }
        },
        "f89dbdbe8ddd47ae8239a7ea7e4a9960": {
          "model_module": "@jupyter-widgets/base",
          "model_name": "LayoutModel",
          "model_module_version": "1.2.0",
          "state": {
            "_model_module": "@jupyter-widgets/base",
            "_model_module_version": "1.2.0",
            "_model_name": "LayoutModel",
            "_view_count": null,
            "_view_module": "@jupyter-widgets/base",
            "_view_module_version": "1.2.0",
            "_view_name": "LayoutView",
            "align_content": null,
            "align_items": null,
            "align_self": null,
            "border": null,
            "bottom": null,
            "display": null,
            "flex": null,
            "flex_flow": null,
            "grid_area": null,
            "grid_auto_columns": null,
            "grid_auto_flow": null,
            "grid_auto_rows": null,
            "grid_column": null,
            "grid_gap": null,
            "grid_row": null,
            "grid_template_areas": null,
            "grid_template_columns": null,
            "grid_template_rows": null,
            "height": null,
            "justify_content": null,
            "justify_items": null,
            "left": null,
            "margin": null,
            "max_height": null,
            "max_width": null,
            "min_height": null,
            "min_width": null,
            "object_fit": null,
            "object_position": null,
            "order": null,
            "overflow": null,
            "overflow_x": null,
            "overflow_y": null,
            "padding": null,
            "right": null,
            "top": null,
            "visibility": null,
            "width": null
          }
        },
        "0d03831006f04e3691fb448005d5abac": {
          "model_module": "@jupyter-widgets/controls",
          "model_name": "DescriptionStyleModel",
          "model_module_version": "1.5.0",
          "state": {
            "_model_module": "@jupyter-widgets/controls",
            "_model_module_version": "1.5.0",
            "_model_name": "DescriptionStyleModel",
            "_view_count": null,
            "_view_module": "@jupyter-widgets/base",
            "_view_module_version": "1.2.0",
            "_view_name": "StyleView",
            "description_width": ""
          }
        }
      }
    }
  },
  "cells": [
    {
      "cell_type": "markdown",
      "metadata": {
        "id": "view-in-github",
        "colab_type": "text"
      },
      "source": [
        "<a href=\"https://colab.research.google.com/github/Korsholm22/Group_assignment_DeepLearning/blob/main/M4_Group_Assignment_1.ipynb\" target=\"_parent\"><img src=\"https://colab.research.google.com/assets/colab-badge.svg\" alt=\"Open In Colab\"/></a>"
      ]
    },
    {
      "cell_type": "markdown",
      "source": [
        "#**TASK**\n",
        "- Build, train, and evaluate a neural network with Pytorch.\n",
        "- It should have minimum 2 hidden layers\n",
        "- Experiment with at least 5 different variations of hyperparameters (n layers / neurons, activation function, epochs, optimizers, learning rate etc.).\n",
        "- Use gradio to build a simple interactive demo (in the notebook)."
      ],
      "metadata": {
        "id": "Ptax2uFMtIbw"
      }
    },
    {
      "cell_type": "markdown",
      "source": [
        "This should include:\n",
        "\n",
        "1. Feature selection\n",
        "2. Feature engineering (if necessary)\n",
        "3. Standard ML preprocessing (if necessary)\n",
        "4. Train-test split.\n",
        "5. Defining a neural network architecture in putorch\n",
        "6. Define a training loop.\n",
        "7. training the model.\n",
        "8. Try out different hyperparameters.\n",
        "9. Evaluate the final model on the test data.\n",
        "10. Visualize results with Grad.io"
      ],
      "metadata": {
        "id": "JXfMCLYBtJiy"
      }
    },
    {
      "cell_type": "markdown",
      "source": [
        "# Imports"
      ],
      "metadata": {
        "id": "jDRNoaLFtQ6A"
      }
    },
    {
      "cell_type": "code",
      "execution_count": 89,
      "metadata": {
        "id": "bdcRba_RtEMU"
      },
      "outputs": [],
      "source": [
        "# Importing libraries\n",
        "import pandas as pd\n",
        "import numpy as np \n",
        "import torch\n",
        "import matplotlib.pyplot as plt\n",
        "from tqdm import tqdm_notebook\n",
        "from sklearn.metrics import r2_score, mean_squared_error\n",
        "from sklearn.model_selection import train_test_split\n",
        "from statistics import mean\n",
        "from sklearn.preprocessing import StandardScaler"
      ]
    },
    {
      "cell_type": "code",
      "source": [
        "# Importing dataset from M1 (SML APPLICATIONS - AIRBNB PRICING)\n",
        "data = pd.read_csv('http://data.insideairbnb.com/denmark/hovedstaden/copenhagen/2022-06-24/data/listings.csv.gz')"
      ],
      "metadata": {
        "id": "Oqf-ZqTltjVD"
      },
      "execution_count": 2,
      "outputs": []
    },
    {
      "cell_type": "code",
      "source": [
        "# Examining the dataset\n",
        "data.head()"
      ],
      "metadata": {
        "colab": {
          "base_uri": "https://localhost:8080/",
          "height": 569
        },
        "id": "exjQg6N0urgw",
        "outputId": "8bd9861a-6192-4ce6-b0e0-e038e489ab08"
      },
      "execution_count": 3,
      "outputs": [
        {
          "output_type": "execute_result",
          "data": {
            "text/plain": [
              "       id                          listing_url       scrape_id last_scraped  \\\n",
              "0    6983    https://www.airbnb.com/rooms/6983  20220624204326   2022-06-25   \n",
              "1   26057   https://www.airbnb.com/rooms/26057  20220624204326   2022-06-25   \n",
              "2   26473   https://www.airbnb.com/rooms/26473  20220624204326   2022-06-25   \n",
              "3   29118   https://www.airbnb.com/rooms/29118  20220624204326   2022-06-25   \n",
              "4  670820  https://www.airbnb.com/rooms/670820  20220624204326   2022-06-25   \n",
              "\n",
              "                                        name  \\\n",
              "0                       Copenhagen 'N Livin'   \n",
              "1        Lovely house - most attractive area   \n",
              "2  City Centre Townhouse Sleeps 1-10 persons   \n",
              "3            Best Location in Cool Istedgade   \n",
              "4        1 Bedroom Apartment 5 min to Centre   \n",
              "\n",
              "                                         description  \\\n",
              "0  Lovely apartment located in the hip Nørrebro a...   \n",
              "1  Our lovely house in the center of the city is ...   \n",
              "2  GUESTHOUSE ON KNABROSTRÆDE - located in the ab...   \n",
              "3  <b>The space</b><br />The apartment is situate...   \n",
              "4  The flat is located close to the city center -...   \n",
              "\n",
              "                               neighborhood_overview  \\\n",
              "0  Nice bars and cozy cafes just minutes away, ye...   \n",
              "1  The neighborhood is the most famous one and th...   \n",
              "2                                                NaN   \n",
              "3                                                NaN   \n",
              "4  The flat is surrounded by parks and streets th...   \n",
              "\n",
              "                                         picture_url  host_id  \\\n",
              "0  https://a0.muscache.com/pictures/42044170/f63c...    16774   \n",
              "1  https://a0.muscache.com/pictures/miso/Hosting-...   109777   \n",
              "2  https://a0.muscache.com/pictures/8e132ba0-b68c...   112210   \n",
              "3  https://a0.muscache.com/pictures/b83c7003-367a...   125230   \n",
              "4  https://a0.muscache.com/pictures/91442571/8563...  1566921   \n",
              "\n",
              "                                    host_url  ... review_scores_communication  \\\n",
              "0    https://www.airbnb.com/users/show/16774  ...                        4.89   \n",
              "1   https://www.airbnb.com/users/show/109777  ...                        4.85   \n",
              "2   https://www.airbnb.com/users/show/112210  ...                        4.69   \n",
              "3   https://www.airbnb.com/users/show/125230  ...                        5.00   \n",
              "4  https://www.airbnb.com/users/show/1566921  ...                        4.88   \n",
              "\n",
              "  review_scores_location review_scores_value license instant_bookable  \\\n",
              "0                   4.72                4.70     NaN                f   \n",
              "1                   4.94                4.81     NaN                f   \n",
              "2                   4.88                4.60     NaN                f   \n",
              "3                   4.85                4.77     NaN                f   \n",
              "4                   4.88                4.25     NaN                f   \n",
              "\n",
              "  calculated_host_listings_count calculated_host_listings_count_entire_homes  \\\n",
              "0                              1                                           1   \n",
              "1                              1                                           1   \n",
              "2                             11                                           6   \n",
              "3                              1                                           1   \n",
              "4                              1                                           1   \n",
              "\n",
              "  calculated_host_listings_count_private_rooms  \\\n",
              "0                                            0   \n",
              "1                                            0   \n",
              "2                                            5   \n",
              "3                                            0   \n",
              "4                                            0   \n",
              "\n",
              "  calculated_host_listings_count_shared_rooms reviews_per_month  \n",
              "0                                           0              1.10  \n",
              "1                                           0              0.56  \n",
              "2                                           0              2.06  \n",
              "3                                           0              0.15  \n",
              "4                                           0              0.10  \n",
              "\n",
              "[5 rows x 74 columns]"
            ],
            "text/html": [
              "\n",
              "  <div id=\"df-dcc5a726-f17c-4f0a-baf5-3434312b3662\">\n",
              "    <div class=\"colab-df-container\">\n",
              "      <div>\n",
              "<style scoped>\n",
              "    .dataframe tbody tr th:only-of-type {\n",
              "        vertical-align: middle;\n",
              "    }\n",
              "\n",
              "    .dataframe tbody tr th {\n",
              "        vertical-align: top;\n",
              "    }\n",
              "\n",
              "    .dataframe thead th {\n",
              "        text-align: right;\n",
              "    }\n",
              "</style>\n",
              "<table border=\"1\" class=\"dataframe\">\n",
              "  <thead>\n",
              "    <tr style=\"text-align: right;\">\n",
              "      <th></th>\n",
              "      <th>id</th>\n",
              "      <th>listing_url</th>\n",
              "      <th>scrape_id</th>\n",
              "      <th>last_scraped</th>\n",
              "      <th>name</th>\n",
              "      <th>description</th>\n",
              "      <th>neighborhood_overview</th>\n",
              "      <th>picture_url</th>\n",
              "      <th>host_id</th>\n",
              "      <th>host_url</th>\n",
              "      <th>...</th>\n",
              "      <th>review_scores_communication</th>\n",
              "      <th>review_scores_location</th>\n",
              "      <th>review_scores_value</th>\n",
              "      <th>license</th>\n",
              "      <th>instant_bookable</th>\n",
              "      <th>calculated_host_listings_count</th>\n",
              "      <th>calculated_host_listings_count_entire_homes</th>\n",
              "      <th>calculated_host_listings_count_private_rooms</th>\n",
              "      <th>calculated_host_listings_count_shared_rooms</th>\n",
              "      <th>reviews_per_month</th>\n",
              "    </tr>\n",
              "  </thead>\n",
              "  <tbody>\n",
              "    <tr>\n",
              "      <th>0</th>\n",
              "      <td>6983</td>\n",
              "      <td>https://www.airbnb.com/rooms/6983</td>\n",
              "      <td>20220624204326</td>\n",
              "      <td>2022-06-25</td>\n",
              "      <td>Copenhagen 'N Livin'</td>\n",
              "      <td>Lovely apartment located in the hip Nørrebro a...</td>\n",
              "      <td>Nice bars and cozy cafes just minutes away, ye...</td>\n",
              "      <td>https://a0.muscache.com/pictures/42044170/f63c...</td>\n",
              "      <td>16774</td>\n",
              "      <td>https://www.airbnb.com/users/show/16774</td>\n",
              "      <td>...</td>\n",
              "      <td>4.89</td>\n",
              "      <td>4.72</td>\n",
              "      <td>4.70</td>\n",
              "      <td>NaN</td>\n",
              "      <td>f</td>\n",
              "      <td>1</td>\n",
              "      <td>1</td>\n",
              "      <td>0</td>\n",
              "      <td>0</td>\n",
              "      <td>1.10</td>\n",
              "    </tr>\n",
              "    <tr>\n",
              "      <th>1</th>\n",
              "      <td>26057</td>\n",
              "      <td>https://www.airbnb.com/rooms/26057</td>\n",
              "      <td>20220624204326</td>\n",
              "      <td>2022-06-25</td>\n",
              "      <td>Lovely house - most attractive area</td>\n",
              "      <td>Our lovely house in the center of the city is ...</td>\n",
              "      <td>The neighborhood is the most famous one and th...</td>\n",
              "      <td>https://a0.muscache.com/pictures/miso/Hosting-...</td>\n",
              "      <td>109777</td>\n",
              "      <td>https://www.airbnb.com/users/show/109777</td>\n",
              "      <td>...</td>\n",
              "      <td>4.85</td>\n",
              "      <td>4.94</td>\n",
              "      <td>4.81</td>\n",
              "      <td>NaN</td>\n",
              "      <td>f</td>\n",
              "      <td>1</td>\n",
              "      <td>1</td>\n",
              "      <td>0</td>\n",
              "      <td>0</td>\n",
              "      <td>0.56</td>\n",
              "    </tr>\n",
              "    <tr>\n",
              "      <th>2</th>\n",
              "      <td>26473</td>\n",
              "      <td>https://www.airbnb.com/rooms/26473</td>\n",
              "      <td>20220624204326</td>\n",
              "      <td>2022-06-25</td>\n",
              "      <td>City Centre Townhouse Sleeps 1-10 persons</td>\n",
              "      <td>GUESTHOUSE ON KNABROSTRÆDE - located in the ab...</td>\n",
              "      <td>NaN</td>\n",
              "      <td>https://a0.muscache.com/pictures/8e132ba0-b68c...</td>\n",
              "      <td>112210</td>\n",
              "      <td>https://www.airbnb.com/users/show/112210</td>\n",
              "      <td>...</td>\n",
              "      <td>4.69</td>\n",
              "      <td>4.88</td>\n",
              "      <td>4.60</td>\n",
              "      <td>NaN</td>\n",
              "      <td>f</td>\n",
              "      <td>11</td>\n",
              "      <td>6</td>\n",
              "      <td>5</td>\n",
              "      <td>0</td>\n",
              "      <td>2.06</td>\n",
              "    </tr>\n",
              "    <tr>\n",
              "      <th>3</th>\n",
              "      <td>29118</td>\n",
              "      <td>https://www.airbnb.com/rooms/29118</td>\n",
              "      <td>20220624204326</td>\n",
              "      <td>2022-06-25</td>\n",
              "      <td>Best Location in Cool Istedgade</td>\n",
              "      <td>&lt;b&gt;The space&lt;/b&gt;&lt;br /&gt;The apartment is situate...</td>\n",
              "      <td>NaN</td>\n",
              "      <td>https://a0.muscache.com/pictures/b83c7003-367a...</td>\n",
              "      <td>125230</td>\n",
              "      <td>https://www.airbnb.com/users/show/125230</td>\n",
              "      <td>...</td>\n",
              "      <td>5.00</td>\n",
              "      <td>4.85</td>\n",
              "      <td>4.77</td>\n",
              "      <td>NaN</td>\n",
              "      <td>f</td>\n",
              "      <td>1</td>\n",
              "      <td>1</td>\n",
              "      <td>0</td>\n",
              "      <td>0</td>\n",
              "      <td>0.15</td>\n",
              "    </tr>\n",
              "    <tr>\n",
              "      <th>4</th>\n",
              "      <td>670820</td>\n",
              "      <td>https://www.airbnb.com/rooms/670820</td>\n",
              "      <td>20220624204326</td>\n",
              "      <td>2022-06-25</td>\n",
              "      <td>1 Bedroom Apartment 5 min to Centre</td>\n",
              "      <td>The flat is located close to the city center -...</td>\n",
              "      <td>The flat is surrounded by parks and streets th...</td>\n",
              "      <td>https://a0.muscache.com/pictures/91442571/8563...</td>\n",
              "      <td>1566921</td>\n",
              "      <td>https://www.airbnb.com/users/show/1566921</td>\n",
              "      <td>...</td>\n",
              "      <td>4.88</td>\n",
              "      <td>4.88</td>\n",
              "      <td>4.25</td>\n",
              "      <td>NaN</td>\n",
              "      <td>f</td>\n",
              "      <td>1</td>\n",
              "      <td>1</td>\n",
              "      <td>0</td>\n",
              "      <td>0</td>\n",
              "      <td>0.10</td>\n",
              "    </tr>\n",
              "  </tbody>\n",
              "</table>\n",
              "<p>5 rows × 74 columns</p>\n",
              "</div>\n",
              "      <button class=\"colab-df-convert\" onclick=\"convertToInteractive('df-dcc5a726-f17c-4f0a-baf5-3434312b3662')\"\n",
              "              title=\"Convert this dataframe to an interactive table.\"\n",
              "              style=\"display:none;\">\n",
              "        \n",
              "  <svg xmlns=\"http://www.w3.org/2000/svg\" height=\"24px\"viewBox=\"0 0 24 24\"\n",
              "       width=\"24px\">\n",
              "    <path d=\"M0 0h24v24H0V0z\" fill=\"none\"/>\n",
              "    <path d=\"M18.56 5.44l.94 2.06.94-2.06 2.06-.94-2.06-.94-.94-2.06-.94 2.06-2.06.94zm-11 1L8.5 8.5l.94-2.06 2.06-.94-2.06-.94L8.5 2.5l-.94 2.06-2.06.94zm10 10l.94 2.06.94-2.06 2.06-.94-2.06-.94-.94-2.06-.94 2.06-2.06.94z\"/><path d=\"M17.41 7.96l-1.37-1.37c-.4-.4-.92-.59-1.43-.59-.52 0-1.04.2-1.43.59L10.3 9.45l-7.72 7.72c-.78.78-.78 2.05 0 2.83L4 21.41c.39.39.9.59 1.41.59.51 0 1.02-.2 1.41-.59l7.78-7.78 2.81-2.81c.8-.78.8-2.07 0-2.86zM5.41 20L4 18.59l7.72-7.72 1.47 1.35L5.41 20z\"/>\n",
              "  </svg>\n",
              "      </button>\n",
              "      \n",
              "  <style>\n",
              "    .colab-df-container {\n",
              "      display:flex;\n",
              "      flex-wrap:wrap;\n",
              "      gap: 12px;\n",
              "    }\n",
              "\n",
              "    .colab-df-convert {\n",
              "      background-color: #E8F0FE;\n",
              "      border: none;\n",
              "      border-radius: 50%;\n",
              "      cursor: pointer;\n",
              "      display: none;\n",
              "      fill: #1967D2;\n",
              "      height: 32px;\n",
              "      padding: 0 0 0 0;\n",
              "      width: 32px;\n",
              "    }\n",
              "\n",
              "    .colab-df-convert:hover {\n",
              "      background-color: #E2EBFA;\n",
              "      box-shadow: 0px 1px 2px rgba(60, 64, 67, 0.3), 0px 1px 3px 1px rgba(60, 64, 67, 0.15);\n",
              "      fill: #174EA6;\n",
              "    }\n",
              "\n",
              "    [theme=dark] .colab-df-convert {\n",
              "      background-color: #3B4455;\n",
              "      fill: #D2E3FC;\n",
              "    }\n",
              "\n",
              "    [theme=dark] .colab-df-convert:hover {\n",
              "      background-color: #434B5C;\n",
              "      box-shadow: 0px 1px 3px 1px rgba(0, 0, 0, 0.15);\n",
              "      filter: drop-shadow(0px 1px 2px rgba(0, 0, 0, 0.3));\n",
              "      fill: #FFFFFF;\n",
              "    }\n",
              "  </style>\n",
              "\n",
              "      <script>\n",
              "        const buttonEl =\n",
              "          document.querySelector('#df-dcc5a726-f17c-4f0a-baf5-3434312b3662 button.colab-df-convert');\n",
              "        buttonEl.style.display =\n",
              "          google.colab.kernel.accessAllowed ? 'block' : 'none';\n",
              "\n",
              "        async function convertToInteractive(key) {\n",
              "          const element = document.querySelector('#df-dcc5a726-f17c-4f0a-baf5-3434312b3662');\n",
              "          const dataTable =\n",
              "            await google.colab.kernel.invokeFunction('convertToInteractive',\n",
              "                                                     [key], {});\n",
              "          if (!dataTable) return;\n",
              "\n",
              "          const docLinkHtml = 'Like what you see? Visit the ' +\n",
              "            '<a target=\"_blank\" href=https://colab.research.google.com/notebooks/data_table.ipynb>data table notebook</a>'\n",
              "            + ' to learn more about interactive tables.';\n",
              "          element.innerHTML = '';\n",
              "          dataTable['output_type'] = 'display_data';\n",
              "          await google.colab.output.renderOutput(dataTable, element);\n",
              "          const docLink = document.createElement('div');\n",
              "          docLink.innerHTML = docLinkHtml;\n",
              "          element.appendChild(docLink);\n",
              "        }\n",
              "      </script>\n",
              "    </div>\n",
              "  </div>\n",
              "  "
            ]
          },
          "metadata": {},
          "execution_count": 3
        }
      ]
    },
    {
      "cell_type": "markdown",
      "source": [
        "# Preprocessing"
      ],
      "metadata": {
        "id": "YJxkgy1KtSJE"
      }
    },
    {
      "cell_type": "code",
      "source": [
        "# Converting price from an object to a float\n",
        "data['price'] = data.price.str.replace('$','')\n",
        "data['price'] = data.price.str.replace(',','')\n",
        "data['price'] = data['price'].astype('float')"
      ],
      "metadata": {
        "colab": {
          "base_uri": "https://localhost:8080/"
        },
        "id": "7FeA28ndcNmB",
        "outputId": "9e80f6da-f45f-429a-dbca-73d409c01531"
      },
      "execution_count": 4,
      "outputs": [
        {
          "output_type": "stream",
          "name": "stderr",
          "text": [
            "<ipython-input-4-90af22cc24d0>:2: FutureWarning: The default value of regex will change from True to False in a future version. In addition, single character regular expressions will *not* be treated as literal strings when regex=True.\n",
            "  data['price'] = data.price.str.replace('$','')\n"
          ]
        }
      ]
    },
    {
      "cell_type": "code",
      "source": [
        "# Converting instant_bookable from an object to a boolean\n",
        "mapping = {'f':False,'t':True}\n",
        "data.replace({\"instant_bookable\":mapping}, inplace=True)"
      ],
      "metadata": {
        "id": "f1PK3BeEchiM"
      },
      "execution_count": 5,
      "outputs": []
    },
    {
      "cell_type": "code",
      "source": [
        "# Keeping only airbnb's where the standard deviation of price is less than 2\n",
        "data['price_z'] = (data['price'] - data['price'].mean())/data['price'].std(ddof=0)\n",
        "data['price_z'] = data['price_z'].abs()\n",
        "data = data[data.price_z < 2]"
      ],
      "metadata": {
        "id": "_1MeU5M0dP8Z"
      },
      "execution_count": 6,
      "outputs": []
    },
    {
      "cell_type": "code",
      "source": [
        "# Keeping only airbnb's which have received 1 or more reviews in the last 30 days\n",
        "# Keeping only airbnb's which have a review score rating of 4 or more\n",
        "data = data[data.number_of_reviews_l30d >= 1]\n",
        "data = data[data.review_scores_rating >= 4]"
      ],
      "metadata": {
        "id": "hFUMEDRzdVQx"
      },
      "execution_count": 7,
      "outputs": []
    },
    {
      "cell_type": "code",
      "source": [
        "# Seleting features from the dataset to be used as inputs and output in the neural network\n",
        "selected_df = data[['instant_bookable','accommodates', 'beds', 'minimum_nights_avg_ntm', 'price']]"
      ],
      "metadata": {
        "id": "IuojYfh6dzAq"
      },
      "execution_count": 8,
      "outputs": []
    },
    {
      "cell_type": "code",
      "source": [
        "# Dropping NaN values\n",
        "selected_df = selected_df.dropna()"
      ],
      "metadata": {
        "id": "jPjDIuiLel5V"
      },
      "execution_count": 9,
      "outputs": []
    },
    {
      "cell_type": "code",
      "source": [
        "# Defining X\n",
        "X = selected_df.iloc[:,:-1]"
      ],
      "metadata": {
        "id": "okOyKxUSfssU"
      },
      "execution_count": 10,
      "outputs": []
    },
    {
      "cell_type": "code",
      "source": [
        "# Defining y\n",
        "y = selected_df.price"
      ],
      "metadata": {
        "id": "A81TWOd4gSZ1"
      },
      "execution_count": 11,
      "outputs": []
    },
    {
      "cell_type": "code",
      "source": [
        "# Scaling numerical values by instantiating the scaler, fitting it onto X and inserting the scaled values in X\n",
        "scaler = StandardScaler()\n",
        "transformed_nummerical = scaler.fit_transform(X)\n",
        "X.iloc[:,0:] = transformed_nummerical"
      ],
      "metadata": {
        "id": "iCaSBfYmimAz"
      },
      "execution_count": 12,
      "outputs": []
    },
    {
      "cell_type": "code",
      "source": [
        "# Splitting the data intro train and test sets\n",
        "X_train, X_test, y_train, y_test = train_test_split(X, y, test_size=0.2)"
      ],
      "metadata": {
        "id": "jC1h2W5LV-gS"
      },
      "execution_count": 13,
      "outputs": []
    },
    {
      "cell_type": "code",
      "source": [
        "# Converting the training and test sets to tensors\n",
        "\n",
        "# Training sets\n",
        "X_train = torch.tensor(X_train[['instant_bookable', 'accommodates', 'beds', 'minimum_nights_avg_ntm']].values.astype(np.float32))\n",
        "y_train = torch.tensor(y_train.values.astype(np.float32))\n",
        "\n",
        "# Test sets\n",
        "X_test = torch.tensor(X_test[['instant_bookable', 'accommodates', 'beds', 'minimum_nights_avg_ntm']].values.astype(np.float32))\n",
        "y_test = torch.tensor(y_test.values.astype(np.float32))"
      ],
      "metadata": {
        "id": "HEcd7o2m4yDt"
      },
      "execution_count": 14,
      "outputs": []
    },
    {
      "cell_type": "code",
      "source": [
        "# Examining the size of the tensors\n",
        "print('Training sets:')\n",
        "print(X_train.size())\n",
        "print(y_train.size())\n",
        "\n",
        "print('')\n",
        "\n",
        "print('Test sets:')\n",
        "print(X_test.size())\n",
        "print(y_test.size())"
      ],
      "metadata": {
        "colab": {
          "base_uri": "https://localhost:8080/"
        },
        "id": "REHx8l4U9S-5",
        "outputId": "8f28df52-ec61-4049-a464-4eb78cfecdbb"
      },
      "execution_count": 15,
      "outputs": [
        {
          "output_type": "stream",
          "name": "stdout",
          "text": [
            "Training sets:\n",
            "torch.Size([3170, 4])\n",
            "torch.Size([3170])\n",
            "\n",
            "Test sets:\n",
            "torch.Size([793, 4])\n",
            "torch.Size([793])\n"
          ]
        }
      ]
    },
    {
      "cell_type": "markdown",
      "source": [
        "# Default Network"
      ],
      "metadata": {
        "id": "VjpBXT3StUtT"
      }
    },
    {
      "cell_type": "markdown",
      "source": [
        "First, we copy/paste example 5 from 'Exercise Session 1 ANN Pytorch Solution: 5. Training ANN through Customer churn dataset with 4 inputs and 2 hidden layers' as a default model for further experimentation with hyperparameters.\n",
        "\n",
        "Based on these hyperparameters the minimal loss is: 1,829,178.0"
      ],
      "metadata": {
        "id": "YmG6DzKE4Ns2"
      }
    },
    {
      "cell_type": "code",
      "source": [
        "epochs = 50\n",
        "learning_rate = 0.01\n",
        "loss_set = {}\n",
        "\n",
        "# 1. Creating a FeedForwardNetwork\n",
        "default = torch.nn.Sequential(\n",
        "                         torch.nn.Linear(4,6),\n",
        "                         torch.nn.ReLU(),\n",
        "                         torch.nn.Linear(6,5),\n",
        "                         torch.nn.ReLU(),\n",
        "                         torch.nn.Linear(5,1),\n",
        "                         torch.nn.Sigmoid()\n",
        "                         );\n",
        "optimizer = torch.optim.RMSprop(default.parameters(), lr=learning_rate)\n",
        "loss_mse = torch.nn.MSELoss()\n",
        "\n",
        "\n",
        "for i in tqdm_notebook(range(epochs), total=epochs, unit=\"epoch\"):\n",
        "      lost_set_epoch = {}\n",
        "      j = 0\n",
        "      for x, y_t in zip(X_train, y_train):\n",
        "          output = default.forward(x.float())\n",
        "\n",
        "          # 2. FeedForward Evaluation\n",
        "          loss = loss_mse(output, y_t.float())\n",
        "          optimizer.zero_grad()\n",
        "\n",
        "          # 3. Backward / Gradient Calculation\n",
        "          loss.backward()\n",
        "\n",
        "          # 4. Back Propagation\n",
        "          optimizer.step()\n",
        "\n",
        "          # Display_loss:\n",
        "          lost_set_epoch[j] = loss\n",
        "          j = j + 1\n",
        "      \n",
        "      loss_set[i] = torch.mean(torch.stack(list(lost_set_epoch.values()))).detach().numpy()\n",
        "      if (i % 10)==0:\n",
        "         print (f\"Loss: {loss_set[i]}\")"
      ],
      "metadata": {
        "colab": {
          "base_uri": "https://localhost:8080/",
          "height": 239,
          "referenced_widgets": [
            "b3702f4357bd4e77bf23aa9fa00878ee",
            "9ad84ed9ab304babb0c507c025079194",
            "8b2e3bc2caf64a9a8b4ba274bbc657ec",
            "3dbac34304ef47efabe958cf9015316a",
            "94f1f99d95c743cf841206e0abb0d7ba",
            "b45f2612fb7c41eab87b3e0c06080596",
            "e6db1bb223034e62a1198c7f00c9004c",
            "2adb6a44c5154cacb6d8fb286093c1c1",
            "0fb18be7d3b74e86994106f8c7dbbca4",
            "8befbd70ad654a90876ab01c5dbe3de1",
            "8759ec0dff1d4e85ba5192c87e15d142"
          ]
        },
        "id": "pgEQON0O4JtF",
        "outputId": "84477dbf-2514-43fd-9bda-29cb3d619bca"
      },
      "execution_count": 16,
      "outputs": [
        {
          "output_type": "stream",
          "name": "stderr",
          "text": [
            "<ipython-input-16-2cba45d1cd84>:18: TqdmDeprecationWarning: This function will be removed in tqdm==5.0.0\n",
            "Please use `tqdm.notebook.tqdm` instead of `tqdm.tqdm_notebook`\n",
            "  for i in tqdm_notebook(range(epochs), total=epochs, unit=\"epoch\"):\n"
          ]
        },
        {
          "output_type": "display_data",
          "data": {
            "text/plain": [
              "  0%|          | 0/50 [00:00<?, ?epoch/s]"
            ],
            "application/vnd.jupyter.widget-view+json": {
              "version_major": 2,
              "version_minor": 0,
              "model_id": "b3702f4357bd4e77bf23aa9fa00878ee"
            }
          },
          "metadata": {}
        },
        {
          "output_type": "stream",
          "name": "stderr",
          "text": [
            "/usr/local/lib/python3.8/dist-packages/torch/nn/modules/loss.py:536: UserWarning: Using a target size (torch.Size([])) that is different to the input size (torch.Size([1])). This will likely lead to incorrect results due to broadcasting. Please ensure they have the same size.\n",
            "  return F.mse_loss(input, target, reduction=self.reduction)\n"
          ]
        },
        {
          "output_type": "stream",
          "name": "stdout",
          "text": [
            "Loss: 1829179.0\n",
            "Loss: 1829178.0\n",
            "Loss: 1829178.0\n",
            "Loss: 1829178.0\n",
            "Loss: 1829178.0\n"
          ]
        }
      ]
    },
    {
      "cell_type": "code",
      "source": [
        "# Plotting the loss function\n",
        "plt.plot(np.array(list(loss_set.values())).astype(float))\n",
        "plt.xlabel('Epochs')\n",
        "plt.ylabel('Mean Squared Error')\n",
        "plt.show()"
      ],
      "metadata": {
        "colab": {
          "base_uri": "https://localhost:8080/",
          "height": 290
        },
        "id": "7UoMorus-At5",
        "outputId": "696a4184-c22f-4da2-b91f-b5778d3c62fb"
      },
      "execution_count": 17,
      "outputs": [
        {
          "output_type": "display_data",
          "data": {
            "text/plain": [
              "<Figure size 432x288 with 1 Axes>"
            ],
            "image/png": "[encoded data removed]"
          },
          "metadata": {
            "needs_background": "light"
          }
        }
      ]
    },
    {
      "cell_type": "markdown",
      "source": [
        "# Experiments"
      ],
      "metadata": {
        "id": "U4SYDXkZIikc"
      }
    },
    {
      "cell_type": "markdown",
      "source": [
        "Based on the following overview, we may experiment with different loss functions, optimization algorithms, activation functions, number of hidden layers, number of epochs and learning rates depending on the type of neural network and the problem being solved."
      ],
      "metadata": {
        "id": "zL7ReGJdInO5"
      }
    },
    {
      "cell_type": "markdown",
      "source": [
        "![](https://raw.github.com/Korsholm22/Group_assignment_DeepLearning/main/Illustrations/Neural%20Network%20Overview.jpg)"
      ],
      "metadata": {
        "id": "xobdvFc4Itl-"
      }
    },
    {
      "cell_type": "markdown",
      "source": [
        "## Experiment 1: Activation Function"
      ],
      "metadata": {
        "id": "p5_DuhTw4uIl"
      }
    },
    {
      "cell_type": "markdown",
      "source": [
        "Since we are working with a regression problem (pricing of airbnb's), we change the activation function of the output layer to nn.Identity according to the overview above.\n",
        "\n",
        "Based on these hyperparameters the minimal loss is: 322,528.5"
      ],
      "metadata": {
        "id": "2OTiIb9vMqRE"
      }
    },
    {
      "cell_type": "markdown",
      "source": [
        "Changes compared to default network:\n",
        "\n",
        "- Output layer activation function changed to Identity"
      ],
      "metadata": {
        "id": "Es20K6qOOg-X"
      }
    },
    {
      "cell_type": "code",
      "source": [
        "epochs = 50\n",
        "learning_rate = 0.01\n",
        "loss_set = {}\n",
        "\n",
        "# 1. Creating a FeedForwardNetwork\n",
        "experiment_1 = torch.nn.Sequential(\n",
        "                         torch.nn.Linear(4,6),\n",
        "                         torch.nn.ReLU(),\n",
        "                         torch.nn.Linear(6,5),\n",
        "                         torch.nn.ReLU(),\n",
        "                         torch.nn.Linear(5,1),\n",
        "                         torch.nn.Identity()\n",
        "                         );\n",
        "optimizer = torch.optim.RMSprop(experiment_1.parameters(), lr=learning_rate)\n",
        "loss_mse = torch.nn.MSELoss()\n",
        "\n",
        "\n",
        "for i in tqdm_notebook(range(epochs), total=epochs, unit=\"epoch\"):\n",
        "      lost_set_epoch = {}\n",
        "      j = 0\n",
        "      for x, y_t in zip(X_train, y_train):\n",
        "          output = experiment_1.forward(x.float())\n",
        "\n",
        "          # 2. FeedForward Evaluation\n",
        "          loss = loss_mse(output, y_t.float())\n",
        "          optimizer.zero_grad()\n",
        "\n",
        "          # 3. Backward / Gradient Calculation\n",
        "          loss.backward()\n",
        "\n",
        "          # 4. Back Propagation\n",
        "          optimizer.step()\n",
        "\n",
        "          # Display_loss:\n",
        "          lost_set_epoch[j] = loss\n",
        "          j = j + 1\n",
        "      \n",
        "      loss_set[i] = torch.mean(torch.stack(list(lost_set_epoch.values()))).detach().numpy()\n",
        "      if (i % 10)==0:\n",
        "         print (f\"Loss: {loss_set[i]}\")"
      ],
      "metadata": {
        "colab": {
          "base_uri": "https://localhost:8080/",
          "height": 239,
          "referenced_widgets": [
            "d1eac6dae9c245c9a5abd6748d8557d4",
            "3a55b7f79d8d476892a4adb40497ffc2",
            "c3ff569d00e140f4a64a1c77b438e6c6",
            "8015b34509f745a390583042f71a2a78",
            "bd9c4a1961a145328cb72389693edaab",
            "d4c5eb3a42cc426c861af0c7ef6c3827",
            "aa2d2885bb6f42a18198b8c6d6719cb4",
            "bb158a3a01ac446eb3a66922ef8d049e",
            "85e89d839bce4ec69a45078c2c24f736",
            "2e0afad2494f40bda6cbaea422aa83bc",
            "d3fd88008cd84f538210901e3bc7da59"
          ]
        },
        "id": "WEmoHGHB_BZU",
        "outputId": "9996d7dd-8fa1-479a-f8ab-85ef165545c6"
      },
      "execution_count": 18,
      "outputs": [
        {
          "output_type": "stream",
          "name": "stderr",
          "text": [
            "<ipython-input-18-59c4e6ab0def>:18: TqdmDeprecationWarning: This function will be removed in tqdm==5.0.0\n",
            "Please use `tqdm.notebook.tqdm` instead of `tqdm.tqdm_notebook`\n",
            "  for i in tqdm_notebook(range(epochs), total=epochs, unit=\"epoch\"):\n"
          ]
        },
        {
          "output_type": "display_data",
          "data": {
            "text/plain": [
              "  0%|          | 0/50 [00:00<?, ?epoch/s]"
            ],
            "application/vnd.jupyter.widget-view+json": {
              "version_major": 2,
              "version_minor": 0,
              "model_id": "d1eac6dae9c245c9a5abd6748d8557d4"
            }
          },
          "metadata": {}
        },
        {
          "output_type": "stream",
          "name": "stderr",
          "text": [
            "/usr/local/lib/python3.8/dist-packages/torch/nn/modules/loss.py:536: UserWarning: Using a target size (torch.Size([])) that is different to the input size (torch.Size([1])). This will likely lead to incorrect results due to broadcasting. Please ensure they have the same size.\n",
            "  return F.mse_loss(input, target, reduction=self.reduction)\n"
          ]
        },
        {
          "output_type": "stream",
          "name": "stdout",
          "text": [
            "Loss: 412381.75\n",
            "Loss: 323631.90625\n",
            "Loss: 323208.9375\n",
            "Loss: 322901.125\n",
            "Loss: 322528.5\n"
          ]
        }
      ]
    },
    {
      "cell_type": "code",
      "source": [
        "# Plotting the loss function\n",
        "plt.plot(np.array(list(loss_set.values())).astype(float))\n",
        "plt.xlabel('Epochs')\n",
        "plt.ylabel('Mean Squared Error')\n",
        "plt.show()"
      ],
      "metadata": {
        "colab": {
          "base_uri": "https://localhost:8080/",
          "height": 279
        },
        "id": "DnsMXV1Y_DxG",
        "outputId": "2b8a7bfb-9c33-4e36-c3fa-f3d5c88f44df"
      },
      "execution_count": 19,
      "outputs": [
        {
          "output_type": "display_data",
          "data": {
            "text/plain": [
              "<Figure size 432x288 with 1 Axes>"
            ],
            "image/png": "[encoded data removed]"
          },
          "metadata": {
            "needs_background": "light"
          }
        }
      ]
    },
    {
      "cell_type": "markdown",
      "source": [
        "## Experiment 2: Loss Function"
      ],
      "metadata": {
        "id": "JjyfSXeStWqp"
      }
    },
    {
      "cell_type": "markdown",
      "source": [
        "Since we are working with a regression problem, we can also use the loss function L1 for evaluating the network.\n",
        "\n",
        "Based on these hyperparameters the minimal loss is: 393.0252685546875\n"
      ],
      "metadata": {
        "id": "12ITUlSbOnsp"
      }
    },
    {
      "cell_type": "markdown",
      "source": [
        "Changes compared to default network:\n",
        "\n",
        "- Output layer activation function changed to Identity\n",
        "- Loss function changed to L1 Loss"
      ],
      "metadata": {
        "id": "AlPrhKxbOnsr"
      }
    },
    {
      "cell_type": "code",
      "source": [
        "epochs = 50\n",
        "learning_rate = 0.01\n",
        "loss_set = {}\n",
        "\n",
        "# 1. Creating a FeedForwardNetwork\n",
        "experiment_2 = torch.nn.Sequential(\n",
        "                         torch.nn.Linear(4,6),\n",
        "                         torch.nn.ReLU(),\n",
        "                         torch.nn.Linear(6,5),\n",
        "                         torch.nn.ReLU(),\n",
        "                         torch.nn.Linear(5,1),\n",
        "                         torch.nn.Identity()\n",
        "                         );\n",
        "optimizer = torch.optim.RMSprop(experiment_2.parameters(), lr=learning_rate)\n",
        "loss_l1 = torch.nn.L1Loss()\n",
        "\n",
        "\n",
        "for i in tqdm_notebook(range(epochs), total=epochs, unit=\"epoch\"):\n",
        "      lost_set_epoch = {}\n",
        "      j = 0\n",
        "      for x, y_t in zip(X_train, y_train):\n",
        "          output = experiment_2.forward(x.float())\n",
        "\n",
        "          # 2. FeedForward Evaluation\n",
        "          loss = loss_l1(output, y_t.float())\n",
        "          optimizer.zero_grad()\n",
        "\n",
        "          # 3. Backward / Gradient Calculation\n",
        "          loss.backward()\n",
        "\n",
        "          # 4. Back Propagation\n",
        "          optimizer.step()\n",
        "\n",
        "          # Display_loss:\n",
        "          lost_set_epoch[j] = loss\n",
        "          j = j + 1\n",
        "      \n",
        "      loss_set[i] = torch.mean(torch.stack(list(lost_set_epoch.values()))).detach().numpy()\n",
        "      if (i % 10)==0:\n",
        "         print (f\"Loss: {loss_set[i]}\")"
      ],
      "metadata": {
        "colab": {
          "base_uri": "https://localhost:8080/",
          "height": 239,
          "referenced_widgets": [
            "51992bb546014ed2bc51075f89297fef",
            "19dabdf100f54835b23f3bfd4674787e",
            "f28767b8015543c293cd076f343cc5f3",
            "439129805257474a815ba4e801b6cc25",
            "c0f936c6579c4491bd0f15e45f0b1272",
            "5ec66597095a459ba8fd44e3eefefc20",
            "fe1f23725425425aa12f57068a7e8518",
            "7afae37727f14d7287ff7a51d7cf6802",
            "df2d5eed0df74d96b4637cbfe335b5ec",
            "b10eeb8463b7453bb265ee98239e61f9",
            "32c2b441dd3f43c8b8e4dcbcfb61fa0a"
          ]
        },
        "id": "3K15ognVAKXQ",
        "outputId": "67312e5a-440d-49a1-d96a-0af48460cab6"
      },
      "execution_count": 28,
      "outputs": [
        {
          "output_type": "stream",
          "name": "stderr",
          "text": [
            "<ipython-input-28-9bff6d51a451>:18: TqdmDeprecationWarning: This function will be removed in tqdm==5.0.0\n",
            "Please use `tqdm.notebook.tqdm` instead of `tqdm.tqdm_notebook`\n",
            "  for i in tqdm_notebook(range(epochs), total=epochs, unit=\"epoch\"):\n"
          ]
        },
        {
          "output_type": "display_data",
          "data": {
            "text/plain": [
              "  0%|          | 0/50 [00:00<?, ?epoch/s]"
            ],
            "application/vnd.jupyter.widget-view+json": {
              "version_major": 2,
              "version_minor": 0,
              "model_id": "51992bb546014ed2bc51075f89297fef"
            }
          },
          "metadata": {}
        },
        {
          "output_type": "stream",
          "name": "stderr",
          "text": [
            "/usr/local/lib/python3.8/dist-packages/torch/nn/modules/loss.py:101: UserWarning: Using a target size (torch.Size([])) that is different to the input size (torch.Size([1])). This will likely lead to incorrect results due to broadcasting. Please ensure they have the same size.\n",
            "  return F.l1_loss(input, target, reduction=self.reduction)\n"
          ]
        },
        {
          "output_type": "stream",
          "name": "stdout",
          "text": [
            "Loss: 428.0741271972656\n",
            "Loss: 393.85101318359375\n",
            "Loss: 393.3807067871094\n",
            "Loss: 393.1479187011719\n",
            "Loss: 393.0252685546875\n"
          ]
        }
      ]
    },
    {
      "cell_type": "code",
      "source": [
        "# Plotting the loss function\n",
        "plt.plot(np.array(list(loss_set.values())).astype(float))\n",
        "plt.xlabel('Epochs')\n",
        "plt.ylabel('L1 Loss')\n",
        "plt.show()"
      ],
      "metadata": {
        "colab": {
          "base_uri": "https://localhost:8080/",
          "height": 279
        },
        "id": "aVEIz0C9Aqw2",
        "outputId": "ff3932e7-349d-45fd-f65d-206f5cc4b461"
      },
      "execution_count": 21,
      "outputs": [
        {
          "output_type": "display_data",
          "data": {
            "text/plain": [
              "<Figure size 432x288 with 1 Axes>"
            ],
            "image/png": "[encoded data removed]"
          },
          "metadata": {
            "needs_background": "light"
          }
        }
      ]
    },
    {
      "cell_type": "markdown",
      "source": [
        "## Experiment 3: Hidden Layers"
      ],
      "metadata": {
        "id": "7GJR0pgCtX7K"
      }
    },
    {
      "cell_type": "markdown",
      "source": [
        "Increasing the number of hidden layers in the network may improve performance depending on the complexity of the problem being solved. We therefore try to increase the number of hidden layers from 2 to 3.\n",
        "\n",
        "Based on these hyperparameters the minimal loss is: 392.8772888183594"
      ],
      "metadata": {
        "id": "csfkusQHP-iO"
      }
    },
    {
      "cell_type": "markdown",
      "source": [
        "Changes compared to default network:\n",
        "\n",
        "- Output layer activation function changed to Identity\n",
        "- Loss function changed to L1 Loss\n",
        "- Number of hidden layers increased from 2 to 3"
      ],
      "metadata": {
        "id": "KTFfHuqQP-iP"
      }
    },
    {
      "cell_type": "code",
      "source": [
        "epochs = 50\n",
        "learning_rate = 0.01\n",
        "loss_set = {}\n",
        "\n",
        "# 1. Creating a FeedForwardNetwork\n",
        "experiment_3 = torch.nn.Sequential(\n",
        "                         torch.nn.Linear(4,6),\n",
        "                         torch.nn.ReLU(),\n",
        "                         torch.nn.Linear(6,5),\n",
        "                         torch.nn.ReLU(),\n",
        "                         torch.nn.Linear(5,8),\n",
        "                         torch.nn.ReLU(),\n",
        "                         torch.nn.Linear(8,1),\n",
        "                         torch.nn.Identity()\n",
        "                         );\n",
        "optimizer = torch.optim.RMSprop(experiment_3.parameters(), lr=learning_rate)\n",
        "loss_l1 = torch.nn.L1Loss()\n",
        "\n",
        "\n",
        "for i in tqdm_notebook(range(epochs), total=epochs, unit=\"epoch\"):\n",
        "      lost_set_epoch = {}\n",
        "      j = 0\n",
        "      for x, y_t in zip(X_train, y_train):\n",
        "          output = experiment_3.forward(x.float())\n",
        "\n",
        "          # 2. FeedForward Evaluation\n",
        "          loss = loss_l1(output, y_t.float())\n",
        "          optimizer.zero_grad()\n",
        "\n",
        "          # 3. Backward / Gradient Calculation\n",
        "          loss.backward()\n",
        "\n",
        "          # 4. Back Propagation\n",
        "          optimizer.step()\n",
        "\n",
        "          # Display_loss:\n",
        "          lost_set_epoch[j] = loss\n",
        "          j = j + 1\n",
        "      \n",
        "      loss_set[i] = torch.mean(torch.stack(list(lost_set_epoch.values()))).detach().numpy()\n",
        "      if (i % 10)==0:\n",
        "         print (f\"Loss: {loss_set[i]}\")"
      ],
      "metadata": {
        "colab": {
          "base_uri": "https://localhost:8080/",
          "height": 239,
          "referenced_widgets": [
            "eff97958c5bf4c7fb49bb6758d34a01c",
            "40fdc087e3594c0eb614ef3cd54ece04",
            "80b7cddd1a6448428ca7692c56ca7116",
            "d87104b660954c3fb7e6fae43aa083a3",
            "c983ebda5dc94890b82fd6532bd32703",
            "66145b6308804792b99dee037d142840",
            "e802f69ec7ea449ba44412d6e11ce620",
            "233238d7fc4b426fa7b16002705115ec",
            "c49ae9ec26f3446f82abf45cd452c7c8",
            "7668f8cabf484bf1bcc44258eed7fdb3",
            "be95ed12dd624f70816ac84828930cea"
          ]
        },
        "id": "8BtRImEtCNlh",
        "outputId": "d2cb7d27-6cd5-49b9-a275-71a14ed26238"
      },
      "execution_count": 22,
      "outputs": [
        {
          "output_type": "stream",
          "name": "stderr",
          "text": [
            "<ipython-input-22-29e376988c95>:20: TqdmDeprecationWarning: This function will be removed in tqdm==5.0.0\n",
            "Please use `tqdm.notebook.tqdm` instead of `tqdm.tqdm_notebook`\n",
            "  for i in tqdm_notebook(range(epochs), total=epochs, unit=\"epoch\"):\n"
          ]
        },
        {
          "output_type": "display_data",
          "data": {
            "text/plain": [
              "  0%|          | 0/50 [00:00<?, ?epoch/s]"
            ],
            "application/vnd.jupyter.widget-view+json": {
              "version_major": 2,
              "version_minor": 0,
              "model_id": "eff97958c5bf4c7fb49bb6758d34a01c"
            }
          },
          "metadata": {}
        },
        {
          "output_type": "stream",
          "name": "stderr",
          "text": [
            "/usr/local/lib/python3.8/dist-packages/torch/nn/modules/loss.py:101: UserWarning: Using a target size (torch.Size([])) that is different to the input size (torch.Size([1])). This will likely lead to incorrect results due to broadcasting. Please ensure they have the same size.\n",
            "  return F.l1_loss(input, target, reduction=self.reduction)\n"
          ]
        },
        {
          "output_type": "stream",
          "name": "stdout",
          "text": [
            "Loss: 415.09722900390625\n",
            "Loss: 395.33233642578125\n",
            "Loss: 393.404541015625\n",
            "Loss: 393.3476257324219\n",
            "Loss: 392.8772888183594\n"
          ]
        }
      ]
    },
    {
      "cell_type": "code",
      "source": [
        "# Plotting the loss function\n",
        "plt.plot(np.array(list(loss_set.values())).astype(float))\n",
        "plt.xlabel('Epochs')\n",
        "plt.ylabel('L1 Loss')\n",
        "plt.show()"
      ],
      "metadata": {
        "colab": {
          "base_uri": "https://localhost:8080/",
          "height": 279
        },
        "id": "ZWPT81vECbFh",
        "outputId": "7d1561ca-c9a8-4171-e7af-c91aee3df17e"
      },
      "execution_count": 23,
      "outputs": [
        {
          "output_type": "display_data",
          "data": {
            "text/plain": [
              "<Figure size 432x288 with 1 Axes>"
            ],
            "image/png": "[encoded data removed]"
          },
          "metadata": {
            "needs_background": "light"
          }
        }
      ]
    },
    {
      "cell_type": "markdown",
      "source": [
        "## Experiment 4: Epochs"
      ],
      "metadata": {
        "id": "ZzLf7ADltY8p"
      }
    },
    {
      "cell_type": "markdown",
      "source": [
        "The number of epochs determines how many times the weights of the network are changed and the boundary goes from underfitting to optimal to overfitting. We therefore try to increase the number of epochs from 50 to 100.\n",
        "\n",
        "Based on these hyperparameters the minimal loss is: 388.9616394042969\n"
      ],
      "metadata": {
        "id": "rOCScTKbSXBe"
      }
    },
    {
      "cell_type": "markdown",
      "source": [
        "Changes compared to default network:\n",
        "\n",
        "- Output layer activation function changed to Identity\n",
        "- Loss function changed to L1 Loss\n",
        "- Number of hidden layers increased from 2 to 3\n",
        "- Number of epochs increased from 50 to 150\n"
      ],
      "metadata": {
        "id": "Z2H3hmQbSXBg"
      }
    },
    {
      "cell_type": "code",
      "source": [
        "epochs = 150\n",
        "learning_rate = 0.01\n",
        "loss_set = {}\n",
        "\n",
        "# 1. Creating a FeedForwardNetwork\n",
        "experiment_4 = torch.nn.Sequential(\n",
        "                         torch.nn.Linear(4,6),\n",
        "                         torch.nn.ReLU(),\n",
        "                         torch.nn.Linear(6,5),\n",
        "                         torch.nn.ReLU(),\n",
        "                         torch.nn.Linear(5,8),\n",
        "                         torch.nn.ReLU(),\n",
        "                         torch.nn.Linear(8,1),\n",
        "                         torch.nn.Identity()\n",
        "                         );\n",
        "optimizer = torch.optim.RMSprop(experiment_4.parameters(), lr=learning_rate)\n",
        "loss_l1 = torch.nn.L1Loss()\n",
        "\n",
        "\n",
        "for i in tqdm_notebook(range(epochs), total=epochs, unit=\"epoch\"):\n",
        "      lost_set_epoch = {}\n",
        "      j = 0\n",
        "      for x, y_t in zip(X_train, y_train):\n",
        "          output = experiment_4.forward(x.float())\n",
        "\n",
        "          # 2. FeedForward Evaluation\n",
        "          loss = loss_l1(output, y_t.float())\n",
        "          optimizer.zero_grad()\n",
        "\n",
        "          # 3. Backward / Gradient Calculation\n",
        "          loss.backward()\n",
        "\n",
        "          # 4. Back Propagation\n",
        "          optimizer.step()\n",
        "\n",
        "          # Display_loss:\n",
        "          lost_set_epoch[j] = loss\n",
        "          j = j + 1\n",
        "      \n",
        "      loss_set[i] = torch.mean(torch.stack(list(lost_set_epoch.values()))).detach().numpy()\n",
        "      if (i % 10)==0:\n",
        "         print (f\"Loss: {loss_set[i]}\")"
      ],
      "metadata": {
        "colab": {
          "base_uri": "https://localhost:8080/",
          "height": 409,
          "referenced_widgets": [
            "2dd6a47033f444ca9ed784e372b1159e",
            "412543a586f4433294a5bf475975d7ff",
            "e7957d425c424444934be58881dce8c3",
            "9599b199f93e43a2b1be21ad2636ba3e",
            "3ff12d4dc9c54ae0bf62a634e9cdfc15",
            "a76f372a6e0d498798795d4374fc3d0b",
            "6e50bd5990f44c08adc27500c96ebab1",
            "80324d3f7360415cbea973428e10c503",
            "7c176f227a28485db37c517ef4fc708c",
            "9fb4765fba17451a8a7c5d949d8f980b",
            "2f7283f40fba49e895b17850550c580a"
          ]
        },
        "id": "Np-mV3OLHS4_",
        "outputId": "95f6b9b6-d131-4801-c948-0b8530996378"
      },
      "execution_count": 24,
      "outputs": [
        {
          "output_type": "stream",
          "name": "stderr",
          "text": [
            "<ipython-input-24-fd571ffeed3d>:20: TqdmDeprecationWarning: This function will be removed in tqdm==5.0.0\n",
            "Please use `tqdm.notebook.tqdm` instead of `tqdm.tqdm_notebook`\n",
            "  for i in tqdm_notebook(range(epochs), total=epochs, unit=\"epoch\"):\n"
          ]
        },
        {
          "output_type": "display_data",
          "data": {
            "text/plain": [
              "  0%|          | 0/150 [00:00<?, ?epoch/s]"
            ],
            "application/vnd.jupyter.widget-view+json": {
              "version_major": 2,
              "version_minor": 0,
              "model_id": "2dd6a47033f444ca9ed784e372b1159e"
            }
          },
          "metadata": {}
        },
        {
          "output_type": "stream",
          "name": "stderr",
          "text": [
            "/usr/local/lib/python3.8/dist-packages/torch/nn/modules/loss.py:101: UserWarning: Using a target size (torch.Size([])) that is different to the input size (torch.Size([1])). This will likely lead to incorrect results due to broadcasting. Please ensure they have the same size.\n",
            "  return F.l1_loss(input, target, reduction=self.reduction)\n"
          ]
        },
        {
          "output_type": "stream",
          "name": "stdout",
          "text": [
            "Loss: 417.4961242675781\n",
            "Loss: 395.67669677734375\n",
            "Loss: 393.81268310546875\n",
            "Loss: 392.7497253417969\n",
            "Loss: 391.1744384765625\n",
            "Loss: 390.65643310546875\n",
            "Loss: 391.06103515625\n",
            "Loss: 390.5394287109375\n",
            "Loss: 390.0340576171875\n",
            "Loss: 389.2911376953125\n",
            "Loss: 389.81610107421875\n",
            "Loss: 389.8424377441406\n",
            "Loss: 390.142578125\n",
            "Loss: 388.9616394042969\n",
            "Loss: 388.9736328125\n"
          ]
        }
      ]
    },
    {
      "cell_type": "code",
      "source": [
        "# Plotting the loss function\n",
        "plt.plot(np.array(list(loss_set.values())).astype(float))\n",
        "plt.xlabel('Epochs')\n",
        "plt.ylabel('L1 Loss')\n",
        "plt.show()"
      ],
      "metadata": {
        "colab": {
          "base_uri": "https://localhost:8080/",
          "height": 279
        },
        "id": "vnFImsrXIR5Q",
        "outputId": "894f59f0-8e3c-47de-d78a-e7f6f74f8adc"
      },
      "execution_count": 25,
      "outputs": [
        {
          "output_type": "display_data",
          "data": {
            "text/plain": [
              "<Figure size 432x288 with 1 Axes>"
            ],
            "image/png": "[encoded data removed]"
          },
          "metadata": {
            "needs_background": "light"
          }
        }
      ]
    },
    {
      "cell_type": "markdown",
      "source": [
        "## Experiment 5: Learning Rate"
      ],
      "metadata": {
        "id": "H70RxTIetZxY"
      }
    },
    {
      "cell_type": "markdown",
      "source": [
        "The learning rate controls how much the model is changed in response to the estimated error each time the model weights are updated. A rate too small may result in a long training process while a rate too large may result in a sub-optimal set of weights or an unstable training process. We therefore try to decrease the learning rate from 0.01 to 0.001\n",
        "\n",
        "Based on these hyperparameters the minimal loss is: Loss: 386.041748046875"
      ],
      "metadata": {
        "id": "_uKb5h_kUqB4"
      }
    },
    {
      "cell_type": "markdown",
      "source": [
        "Changes compared to default network:\n",
        "\n",
        "- Output layer activation function changed to Identity\n",
        "- Loss function changed to L1 Loss\n",
        "- Number of hidden layers increased from 2 to 3\n",
        "- Number of epochs increased rom 50 to 150\n",
        "- Learning rate decreased from 0.01 to 0.001\n"
      ],
      "metadata": {
        "id": "D8V4Y6KcUqB6"
      }
    },
    {
      "cell_type": "code",
      "source": [
        "epochs = 150\n",
        "learning_rate = 0.001\n",
        "loss_set = {}\n",
        "\n",
        "# 1. Creating a FeedForwardNetwork\n",
        "experiment_5 = torch.nn.Sequential(\n",
        "                         torch.nn.Linear(4,6),\n",
        "                         torch.nn.ReLU(),\n",
        "                         torch.nn.Linear(6,5),\n",
        "                         torch.nn.ReLU(),\n",
        "                         torch.nn.Linear(5,8),\n",
        "                         torch.nn.ReLU(),\n",
        "                         torch.nn.Linear(8,1),\n",
        "                         torch.nn.Identity()\n",
        "                         );\n",
        "optimizer = torch.optim.RMSprop(experiment_5.parameters(), lr=learning_rate)\n",
        "loss_l1 = torch.nn.L1Loss()\n",
        "\n",
        "\n",
        "for i in tqdm_notebook(range(epochs), total=epochs, unit=\"epoch\"):\n",
        "      lost_set_epoch = {}\n",
        "      j = 0\n",
        "      for x, y_t in zip(X_train, y_train):\n",
        "          output = experiment_5.forward(x.float())\n",
        "\n",
        "          # 2. FeedForward Evaluation\n",
        "          loss = loss_l1(output, y_t.float())\n",
        "          optimizer.zero_grad()\n",
        "\n",
        "          # 3. Backward / Gradient Calculation\n",
        "          loss.backward()\n",
        "\n",
        "          # 4. Back Propagation\n",
        "          optimizer.step()\n",
        "\n",
        "          # Display_loss:\n",
        "          lost_set_epoch[j] = loss\n",
        "          j = j + 1\n",
        "      \n",
        "      loss_set[i] = torch.mean(torch.stack(list(lost_set_epoch.values()))).detach().numpy()\n",
        "      if (i % 10)==0:\n",
        "         print (f\"Loss: {loss_set[i]}\")"
      ],
      "metadata": {
        "colab": {
          "base_uri": "https://localhost:8080/",
          "height": 355,
          "referenced_widgets": [
            "fb2782ee3b8d4803a5d4328f0792c06b",
            "ff9ddaf9a4ad4e8c9cd98898c162f4b6",
            "e3a090d238e84fd0bc9085cebd301771",
            "5c1533088c684b2297503fc61469cd6b",
            "f127402a42e8499b827db170d6360a0f",
            "498f8f30a0c640188a258d8f7c5e34db",
            "cad5884d5ed846cdb7bf796cb8cb01b7",
            "80ae25a36e94484187e819d0a851d65f",
            "e9778060cdd44373a998189af072a96e",
            "e288432ebe784bd5a205ad6172aa4071",
            "b7d578a1608648fbabbe0f18ea829ef8"
          ]
        },
        "id": "d-A6XhBRrV76",
        "outputId": "eab192ff-d0c3-4a64-b9f0-2e3cf0770e0c"
      },
      "execution_count": 29,
      "outputs": [
        {
          "output_type": "stream",
          "name": "stderr",
          "text": [
            "<ipython-input-29-29ac3d128a81>:20: TqdmDeprecationWarning: This function will be removed in tqdm==5.0.0\n",
            "Please use `tqdm.notebook.tqdm` instead of `tqdm.tqdm_notebook`\n",
            "  for i in tqdm_notebook(range(epochs), total=epochs, unit=\"epoch\"):\n"
          ]
        },
        {
          "output_type": "display_data",
          "data": {
            "text/plain": [
              "  0%|          | 0/150 [00:00<?, ?epoch/s]"
            ],
            "application/vnd.jupyter.widget-view+json": {
              "version_major": 2,
              "version_minor": 0,
              "model_id": "fb2782ee3b8d4803a5d4328f0792c06b"
            }
          },
          "metadata": {}
        },
        {
          "output_type": "stream",
          "name": "stdout",
          "text": [
            "Loss: 657.9803466796875\n",
            "Loss: 390.472412109375\n",
            "Loss: 389.9311218261719\n",
            "Loss: 389.7992858886719\n",
            "Loss: 389.7226257324219\n",
            "Loss: 389.55712890625\n",
            "Loss: 389.46734619140625\n",
            "Loss: 389.2889099121094\n",
            "Loss: 389.26849365234375\n",
            "Loss: 389.0031433105469\n",
            "Loss: 388.6266174316406\n",
            "Loss: 388.149169921875\n",
            "Loss: 387.2118225097656\n",
            "Loss: 386.4511413574219\n",
            "Loss: 386.041748046875\n"
          ]
        }
      ]
    },
    {
      "cell_type": "code",
      "source": [
        "# Plotting the loss function\n",
        "plt.plot(np.array(list(loss_set.values())).astype(float))\n",
        "plt.xlabel('Epochs')\n",
        "plt.ylabel('L1 Loss')\n",
        "plt.show()"
      ],
      "metadata": {
        "colab": {
          "base_uri": "https://localhost:8080/",
          "height": 279
        },
        "id": "e6JNG-WrtMjP",
        "outputId": "4f221e3a-a444-4808-f2a6-b6097a70a4c2"
      },
      "execution_count": 30,
      "outputs": [
        {
          "output_type": "display_data",
          "data": {
            "text/plain": [
              "<Figure size 432x288 with 1 Axes>"
            ],
            "image/png": "[encoded data removed]"
          },
          "metadata": {
            "needs_background": "light"
          }
        }
      ]
    },
    {
      "cell_type": "markdown",
      "source": [],
      "metadata": {
        "id": "evyGVa1w23EE"
      }
    },
    {
      "cell_type": "markdown",
      "source": [
        "## Experiment 6: Loss Function"
      ],
      "metadata": {
        "id": "oqjKutKY23Op"
      }
    },
    {
      "cell_type": "markdown",
      "source": [
        "Seeing how the number of hidden layers, number of epochs and learning rate improved the loss function in experiment 2-5 above, which all used L1 Loss for evaluating the network, we try to change the loss function back to MSE to examine if these changes have the same influencn when using this loss function for network evaluation.\n",
        "\n",
        "Based on these hyperparameters the minimal loss is: 318,430.25"
      ],
      "metadata": {
        "id": "JNb2eaYr64Xl"
      }
    },
    {
      "cell_type": "markdown",
      "source": [
        "Changes compared to default network:\n",
        "\n",
        "- Output layer activation function changed to Identity\n",
        "- Loss function changed back to MSE Loss\n",
        "- Number of hidden layers increased from 2 to 3\n",
        "- Number of epochs increased rom 50 to 150\n",
        "- Learning rate decreased from 0.01 to 0.001\n"
      ],
      "metadata": {
        "id": "OmnExtgt23Or"
      }
    },
    {
      "cell_type": "code",
      "source": [
        "epochs = 150\n",
        "learning_rate = 0.001\n",
        "loss_set = {}\n",
        "\n",
        "# 1. Creating a FeedForwardNetwork\n",
        "experiment_6 = torch.nn.Sequential(\n",
        "                         torch.nn.Linear(4,6),\n",
        "                         torch.nn.ReLU(),\n",
        "                         torch.nn.Linear(6,5),\n",
        "                         torch.nn.ReLU(),\n",
        "                         torch.nn.Linear(5,8),\n",
        "                         torch.nn.ReLU(),\n",
        "                         torch.nn.Linear(8,1),\n",
        "                         torch.nn.Identity()\n",
        "                         );\n",
        "optimizer = torch.optim.RMSprop(experiment_6.parameters(), lr=learning_rate)\n",
        "loss_mse = torch.nn.MSELoss()\n",
        "\n",
        "\n",
        "for i in tqdm_notebook(range(epochs), total=epochs, unit=\"epoch\"):\n",
        "      lost_set_epoch = {}\n",
        "      j = 0\n",
        "      for x, y_t in zip(X_train, y_train):\n",
        "          output = experiment_6.forward(x.float())\n",
        "\n",
        "          # 2. FeedForward Evaluation\n",
        "          loss = loss_mse(output, y_t.float())\n",
        "          optimizer.zero_grad()\n",
        "\n",
        "          # 3. Backward / Gradient Calculation\n",
        "          loss.backward()\n",
        "\n",
        "          # 4. Back Propagation\n",
        "          optimizer.step()\n",
        "\n",
        "          # Display_loss:\n",
        "          lost_set_epoch[j] = loss\n",
        "          j = j + 1\n",
        "      \n",
        "      loss_set[i] = torch.mean(torch.stack(list(lost_set_epoch.values()))).detach().numpy()\n",
        "      if (i % 10)==0:\n",
        "         print (f\"Loss: {loss_set[i]}\")"
      ],
      "metadata": {
        "colab": {
          "base_uri": "https://localhost:8080/",
          "height": 355,
          "referenced_widgets": [
            "598bc23cec3d496cb61eb22fde3f4079",
            "dd53b92a3bd14797be08baa0b0780d5f",
            "71e8f4f84ba54996b2f1cd9d04341264",
            "8caae13b1da240698bc2f8cb1b567993",
            "4975811e372a4b219e5522e41cde7182",
            "727ce760510643a090e7d23d9d4ab292",
            "3bf143b3070e43b199d6b300e5318023",
            "427ec614fc92498bb0c63f2ba341a4b7",
            "44e1cc4f83c04cb2a71f8c7ff9c4bad4",
            "f89dbdbe8ddd47ae8239a7ea7e4a9960",
            "0d03831006f04e3691fb448005d5abac"
          ]
        },
        "outputId": "13248061-b105-44d8-eda1-dd6f199e7274",
        "id": "KvIewAVj23Os"
      },
      "execution_count": 81,
      "outputs": [
        {
          "output_type": "stream",
          "name": "stderr",
          "text": [
            "<ipython-input-81-a190c4754df3>:20: TqdmDeprecationWarning: This function will be removed in tqdm==5.0.0\n",
            "Please use `tqdm.notebook.tqdm` instead of `tqdm.tqdm_notebook`\n",
            "  for i in tqdm_notebook(range(epochs), total=epochs, unit=\"epoch\"):\n"
          ]
        },
        {
          "output_type": "display_data",
          "data": {
            "text/plain": [
              "  0%|          | 0/150 [00:00<?, ?epoch/s]"
            ],
            "application/vnd.jupyter.widget-view+json": {
              "version_major": 2,
              "version_minor": 0,
              "model_id": "598bc23cec3d496cb61eb22fde3f4079"
            }
          },
          "metadata": {}
        },
        {
          "output_type": "stream",
          "name": "stdout",
          "text": [
            "Loss: 909034.6875\n",
            "Loss: 321396.15625\n",
            "Loss: 319852.4375\n",
            "Loss: 319335.5\n",
            "Loss: 318990.6875\n",
            "Loss: 318831.96875\n",
            "Loss: 318763.71875\n",
            "Loss: 318693.6875\n",
            "Loss: 318662.25\n",
            "Loss: 318660.8125\n",
            "Loss: 318614.34375\n",
            "Loss: 318566.0625\n",
            "Loss: 318525.90625\n",
            "Loss: 318483.03125\n",
            "Loss: 318430.25\n"
          ]
        }
      ]
    },
    {
      "cell_type": "code",
      "source": [
        "# Plotting the loss function\n",
        "plt.plot(np.array(list(loss_set.values())).astype(float))\n",
        "plt.xlabel('Epochs')\n",
        "plt.ylabel('Mean Squared Error')\n",
        "plt.show()"
      ],
      "metadata": {
        "colab": {
          "base_uri": "https://localhost:8080/",
          "height": 279
        },
        "outputId": "a7b67837-9a5b-4f90-b5f3-f6cc98671ffc",
        "id": "tLJ1Wcyk23Ou"
      },
      "execution_count": 106,
      "outputs": [
        {
          "output_type": "display_data",
          "data": {
            "text/plain": [
              "<Figure size 432x288 with 1 Axes>"
            ],
            "image/png": "[encoded data removed]"
          },
          "metadata": {
            "needs_background": "light"
          }
        }
      ]
    },
    {
      "cell_type": "markdown",
      "source": [
        "# Evaluating the Models on Test Data"
      ],
      "metadata": {
        "id": "LgMEkELOKo3T"
      }
    },
    {
      "cell_type": "markdown",
      "source": [
        "Note that all models are saved and uploaded in the Github repository"
      ],
      "metadata": {
        "id": "Asl3I38xzti1"
      }
    },
    {
      "cell_type": "code",
      "source": [
        "# Saving the trained models\n",
        "torch.save(default, 'default.pkl')\n",
        "torch.save(experiment_1, 'experiment_1.pkl')\n",
        "torch.save(experiment_2, 'experiment_2.pkl')\n",
        "torch.save(experiment_3, 'experiment_3.pkl')\n",
        "torch.save(experiment_4, 'experiment_4.pkl')\n",
        "torch.save(experiment_5, 'experiment_5.pkl')\n",
        "torch.save(experiment_6, 'experiment_6.pkl')"
      ],
      "metadata": {
        "id": "bsz8tWQTWLLh"
      },
      "execution_count": 101,
      "outputs": []
    },
    {
      "cell_type": "code",
      "source": [
        "# Loading the models\n",
        "default = torch.load('default.pkl')\n",
        "experiment_1 = torch.load('experiment_1.pkl')\n",
        "experiment_2 = torch.load('experiment_2.pkl')\n",
        "experiment_3 = torch.load('experiment_3.pkl')\n",
        "experiment_4 = torch.load('experiment_4.pkl')\n",
        "experiment_5 = torch.load('experiment_5.pkl')\n",
        "experiment_6 = torch.load('experiment_6.pkl')"
      ],
      "metadata": {
        "id": "FjiG_jPMWQkI"
      },
      "execution_count": 102,
      "outputs": []
    },
    {
      "cell_type": "code",
      "source": [
        "# Applying the models to test data\n",
        "default = default(X_test)\n",
        "experiment_1 = experiment_1(X_test)\n",
        "experiment_2 = experiment_2(X_test)\n",
        "experiment_3 = experiment_3(X_test)\n",
        "experiment_4 = experiment_4(X_test)\n",
        "experiment_5 = experiment_5(X_test)\n",
        "experiment_6 = experiment_6(X_test)"
      ],
      "metadata": {
        "colab": {
          "base_uri": "https://localhost:8080/",
          "height": 232
        },
        "id": "SJ19XM83WUOO",
        "outputId": "26faa225-bd48-41cf-9b94-b42777003447"
      },
      "execution_count": 103,
      "outputs": [
        {
          "output_type": "error",
          "ename": "TypeError",
          "evalue": "ignored",
          "traceback": [
            "\u001b[0;31m---------------------------------------------------------------------------\u001b[0m",
            "\u001b[0;31mTypeError\u001b[0m                                 Traceback (most recent call last)",
            "\u001b[0;32m<ipython-input-103-719f069c58d6>\u001b[0m in \u001b[0;36m<module>\u001b[0;34m\u001b[0m\n\u001b[1;32m      1\u001b[0m \u001b[0;31m# Applying the models to test data\u001b[0m\u001b[0;34m\u001b[0m\u001b[0;34m\u001b[0m\u001b[0;34m\u001b[0m\u001b[0m\n\u001b[0;32m----> 2\u001b[0;31m \u001b[0mdefault\u001b[0m \u001b[0;34m=\u001b[0m \u001b[0mdefault\u001b[0m\u001b[0;34m(\u001b[0m\u001b[0mX_test\u001b[0m\u001b[0;34m)\u001b[0m\u001b[0;34m\u001b[0m\u001b[0;34m\u001b[0m\u001b[0m\n\u001b[0m\u001b[1;32m      3\u001b[0m \u001b[0mexperiment_1\u001b[0m \u001b[0;34m=\u001b[0m \u001b[0mexperiment_1\u001b[0m\u001b[0;34m(\u001b[0m\u001b[0mX_test\u001b[0m\u001b[0;34m)\u001b[0m\u001b[0;34m\u001b[0m\u001b[0;34m\u001b[0m\u001b[0m\n\u001b[1;32m      4\u001b[0m \u001b[0mexperiment_2\u001b[0m \u001b[0;34m=\u001b[0m \u001b[0mexperiment_2\u001b[0m\u001b[0;34m(\u001b[0m\u001b[0mX_test\u001b[0m\u001b[0;34m)\u001b[0m\u001b[0;34m\u001b[0m\u001b[0;34m\u001b[0m\u001b[0m\n\u001b[1;32m      5\u001b[0m \u001b[0mexperiment_3\u001b[0m \u001b[0;34m=\u001b[0m \u001b[0mexperiment_3\u001b[0m\u001b[0;34m(\u001b[0m\u001b[0mX_test\u001b[0m\u001b[0;34m)\u001b[0m\u001b[0;34m\u001b[0m\u001b[0;34m\u001b[0m\u001b[0m\n",
            "\u001b[0;31mTypeError\u001b[0m: 'Tensor' object is not callable"
          ]
        }
      ]
    },
    {
      "cell_type": "code",
      "source": [
        "# Converting the tensors to lists to calculate R^2 and MSE\n",
        "y_test_list = y_test.detach().numpy()\n",
        "\n",
        "default_list = default.detach().numpy()\n",
        "experiment_1_list = experiment_1.detach().numpy()\n",
        "experiment_2_list = experiment_2.detach().numpy()\n",
        "experiment_3_list = experiment_3.detach().numpy()\n",
        "experiment_4_list = experiment_4.detach().numpy()\n",
        "experiment_5_list = experiment_5.detach().numpy()\n",
        "experiment_6_list = experiment_6.detach().numpy()"
      ],
      "metadata": {
        "colab": {
          "base_uri": "https://localhost:8080/",
          "height": 334
        },
        "id": "eLqvDSPu0INg",
        "outputId": "7820841a-2899-4a93-8623-90c786fcd957"
      },
      "execution_count": 107,
      "outputs": [
        {
          "output_type": "error",
          "ename": "AttributeError",
          "evalue": "ignored",
          "traceback": [
            "\u001b[0;31m---------------------------------------------------------------------------\u001b[0m",
            "\u001b[0;31mAttributeError\u001b[0m                            Traceback (most recent call last)",
            "\u001b[0;32m<ipython-input-107-598e9b2d8525>\u001b[0m in \u001b[0;36m<module>\u001b[0;34m\u001b[0m\n\u001b[1;32m      7\u001b[0m \u001b[0mexperiment_3_list\u001b[0m \u001b[0;34m=\u001b[0m \u001b[0mexperiment_3\u001b[0m\u001b[0;34m.\u001b[0m\u001b[0mdetach\u001b[0m\u001b[0;34m(\u001b[0m\u001b[0;34m)\u001b[0m\u001b[0;34m.\u001b[0m\u001b[0mnumpy\u001b[0m\u001b[0;34m(\u001b[0m\u001b[0;34m)\u001b[0m\u001b[0;34m\u001b[0m\u001b[0;34m\u001b[0m\u001b[0m\n\u001b[1;32m      8\u001b[0m \u001b[0mexperiment_4_list\u001b[0m \u001b[0;34m=\u001b[0m \u001b[0mexperiment_4\u001b[0m\u001b[0;34m.\u001b[0m\u001b[0mdetach\u001b[0m\u001b[0;34m(\u001b[0m\u001b[0;34m)\u001b[0m\u001b[0;34m.\u001b[0m\u001b[0mnumpy\u001b[0m\u001b[0;34m(\u001b[0m\u001b[0;34m)\u001b[0m\u001b[0;34m\u001b[0m\u001b[0;34m\u001b[0m\u001b[0m\n\u001b[0;32m----> 9\u001b[0;31m \u001b[0mexperiment_5_list\u001b[0m \u001b[0;34m=\u001b[0m \u001b[0mexperiment_5\u001b[0m\u001b[0;34m.\u001b[0m\u001b[0mdetach\u001b[0m\u001b[0;34m(\u001b[0m\u001b[0;34m)\u001b[0m\u001b[0;34m.\u001b[0m\u001b[0mnumpy\u001b[0m\u001b[0;34m(\u001b[0m\u001b[0;34m)\u001b[0m\u001b[0;34m\u001b[0m\u001b[0;34m\u001b[0m\u001b[0m\n\u001b[0m\u001b[1;32m     10\u001b[0m \u001b[0mexperiment_6_list\u001b[0m \u001b[0;34m=\u001b[0m \u001b[0mexperiment_6\u001b[0m\u001b[0;34m.\u001b[0m\u001b[0mdetach\u001b[0m\u001b[0;34m(\u001b[0m\u001b[0;34m)\u001b[0m\u001b[0;34m.\u001b[0m\u001b[0mnumpy\u001b[0m\u001b[0;34m(\u001b[0m\u001b[0;34m)\u001b[0m\u001b[0;34m\u001b[0m\u001b[0;34m\u001b[0m\u001b[0m\n",
            "\u001b[0;32m/usr/local/lib/python3.8/dist-packages/torch/nn/modules/module.py\u001b[0m in \u001b[0;36m__getattr__\u001b[0;34m(self, name)\u001b[0m\n\u001b[1;32m   1267\u001b[0m             \u001b[0;32mif\u001b[0m \u001b[0mname\u001b[0m \u001b[0;32min\u001b[0m \u001b[0mmodules\u001b[0m\u001b[0;34m:\u001b[0m\u001b[0;34m\u001b[0m\u001b[0;34m\u001b[0m\u001b[0m\n\u001b[1;32m   1268\u001b[0m                 \u001b[0;32mreturn\u001b[0m \u001b[0mmodules\u001b[0m\u001b[0;34m[\u001b[0m\u001b[0mname\u001b[0m\u001b[0;34m]\u001b[0m\u001b[0;34m\u001b[0m\u001b[0;34m\u001b[0m\u001b[0m\n\u001b[0;32m-> 1269\u001b[0;31m         raise AttributeError(\"'{}' object has no attribute '{}'\".format(\n\u001b[0m\u001b[1;32m   1270\u001b[0m             type(self).__name__, name))\n\u001b[1;32m   1271\u001b[0m \u001b[0;34m\u001b[0m\u001b[0m\n",
            "\u001b[0;31mAttributeError\u001b[0m: 'Sequential' object has no attribute 'detach'"
          ]
        }
      ]
    },
    {
      "cell_type": "code",
      "source": [
        "# Calculating R^2 for each model\n",
        "default_r2 = r2_score(y_test_list, default_list)\n",
        "experiment_1_r2 = r2_score(y_test_list, experiment_1_list)\n",
        "experiment_2_r2 = r2_score(y_test_list, experiment_2_list)\n",
        "experiment_3_r2 = r2_score(y_test_list, experiment_3_list)\n",
        "experiment_4_r2 = r2_score(y_test_list, experiment_4_list)\n",
        "experiment_5_r2 = r2_score(y_test_list, experiment_5_list)\n",
        "experiment_6_r2 = r2_score(y_test_list, experiment_6_list)"
      ],
      "metadata": {
        "id": "m0EfDSBy1kjU"
      },
      "execution_count": 86,
      "outputs": []
    },
    {
      "cell_type": "code",
      "source": [
        "print('default_r2: ' + str(default_r2))\n",
        "print('experiment_1_r2: ' + str(experiment_1_r2))\n",
        "print('experiment_2_r2: ' + str(experiment_2_r2))\n",
        "print('experiment_3_r2: ' + str(experiment_3_r2))\n",
        "print('experiment_4_r2: ' + str(experiment_4_r2))\n",
        "print('experiment_5_r2: ' + str(experiment_5_r2))\n",
        "print('experiment_6_r2: ' + str(experiment_6_r2))"
      ],
      "metadata": {
        "colab": {
          "base_uri": "https://localhost:8080/"
        },
        "id": "u9X8JJ8l12ia",
        "outputId": "3c36ac9e-fca9-45fb-af68-1ca25ce3f3b0"
      },
      "execution_count": 78,
      "outputs": [
        {
          "output_type": "stream",
          "name": "stdout",
          "text": [
            "-2.7860820860994364\n",
            "0.3625855038740169\n",
            "0.29760594903975\n",
            "0.2583086468828768\n",
            "0.30563281222030403\n",
            "0.3156096737038093\n"
          ]
        }
      ]
    },
    {
      "cell_type": "code",
      "source": [
        "# Calculating MSE for each model\n",
        "default_mse = mean_squared_error(y_test_list, default_list)\n",
        "experiment_1_mse = mean_squared_error(y_test_list, experiment_1_list)\n",
        "experiment_2_mse = mean_squared_error(y_test_list, experiment_2_list)\n",
        "experiment_3_mse = mean_squared_error(y_test_list, experiment_3_list)\n",
        "experiment_4_mse = mean_squared_error(y_test_list, experiment_4_list)\n",
        "experiment_5_mse = mean_squared_error(y_test_list, experiment_5_list)\n",
        "experiment_6_mse = mean_squared_error(y_test_list, experiment_6_list)"
      ],
      "metadata": {
        "id": "u8j-OVoO5n6P"
      },
      "execution_count": 96,
      "outputs": []
    },
    {
      "cell_type": "code",
      "source": [
        "print('default_mse: ' + str(default_mse))\n",
        "print('experiment_1_mse: ' + str(experiment_1_mse))\n",
        "print('experiment_2_mse: ' + str(experiment_2_mse))\n",
        "print('experiment_3_mse: ' + str(experiment_3_mse))\n",
        "print('experiment_4_mse: ' + str(experiment_4_mse))\n",
        "print('experiment_5_mse: ' + str(experiment_5_mse))\n",
        "print('experiment_6_mse: ' + str(experiment_6_mse))"
      ],
      "metadata": {
        "colab": {
          "base_uri": "https://localhost:8080/"
        },
        "id": "3i2qC8OJ548v",
        "outputId": "647d9171-caf1-47a4-968f-a1f544f73e5c"
      },
      "execution_count": 97,
      "outputs": [
        {
          "output_type": "stream",
          "name": "stdout",
          "text": [
            "default_mse: 2045416.1\n",
            "experiment_1_mse: 344360.72\n",
            "experiment_2_mse: 379465.7\n",
            "experiment_3_mse: 400695.84\n",
            "experiment_4_mse: 375129.2\n",
            "experiment_5_mse: 369739.22\n",
            "experiment_6_mse: 343438.6\n"
          ]
        }
      ]
    },
    {
      "cell_type": "markdown",
      "source": [
        "# Gradio Visualization"
      ],
      "metadata": {
        "id": "79SghfTDKrMP"
      }
    },
    {
      "cell_type": "code",
      "source": [
        "!pip install -q gradio\n",
        "import gradio as gradio"
      ],
      "metadata": {
        "id": "PJapMYO1Ksaw"
      },
      "execution_count": 127,
      "outputs": []
    },
    {
      "cell_type": "code",
      "source": [
        "def greet(name):\n",
        "  return \"Hello \" + name + \"!\"\n",
        "\n",
        "greet(\"World\")"
      ],
      "metadata": {
        "colab": {
          "base_uri": "https://localhost:8080/",
          "height": 37
        },
        "id": "1qzJnbBljXD-",
        "outputId": "4ccd9845-ecec-4216-d468-66a9c602f966"
      },
      "execution_count": 128,
      "outputs": [
        {
          "output_type": "execute_result",
          "data": {
            "text/plain": [
              "'Hello World!'"
            ],
            "application/vnd.google.colaboratory.intrinsic+json": {
              "type": "string"
            }
          },
          "metadata": {},
          "execution_count": 128
        }
      ]
    },
    {
      "cell_type": "code",
      "source": [
        "gradio.Interface(greet, \"text\", \"text\").launch(share=True)"
      ],
      "metadata": {
        "colab": {
          "base_uri": "https://localhost:8080/",
          "height": 609
        },
        "id": "izEGwyP6kCkE",
        "outputId": "a716cdad-d535-426e-b832-c1229fa15511"
      },
      "execution_count": 129,
      "outputs": [
        {
          "output_type": "stream",
          "name": "stdout",
          "text": [
            "Colab notebook detected. To show errors in colab notebook, set debug=True in launch()\n",
            "Running on public URL: https://2d03e8b3-e4d0-48a6.gradio.live\n",
            "\n",
            "This share link expires in 72 hours. For free permanent hosting and GPU upgrades (NEW!), check out Spaces: https://huggingface.co/spaces\n"
          ]
        },
        {
          "output_type": "display_data",
          "data": {
            "text/plain": [
              "<IPython.core.display.HTML object>"
            ],
            "text/html": [
              "<div><iframe src=\"https://2d03e8b3-e4d0-48a6.gradio.live\" width=\"100%\" height=\"500\" allow=\"autoplay; camera; microphone; clipboard-read; clipboard-write;\" frameborder=\"0\" allowfullscreen></iframe></div>"
            ]
          },
          "metadata": {}
        },
        {
          "output_type": "execute_result",
          "data": {
            "text/plain": []
          },
          "metadata": {},
          "execution_count": 129
        }
      ]
    }
  ]
}